{
  "cells": [
    {
      "cell_type": "markdown",
      "metadata": {
        "id": "rcxdkt2qE6mn"
      },
      "source": [
        "# GPT-2 interpretability"
      ]
    },
    {
      "cell_type": "markdown",
      "metadata": {
        "id": "D5ZjQo89E6mq"
      },
      "source": [
        "<a href=\"https://colab.research.google.com/github/EffiSciencesResearch/ML4G/blob/main/days/w1d6/gpt-2_intepretability.ipynb\" target=\"_parent\"><img src=\"https://colab.research.google.com/assets/colab-badge.svg\" alt=\"Open In Colab\"/></a>"
      ]
    },
    {
      "cell_type": "markdown",
      "metadata": {
        "id": "v3j1zYbHE6mr"
      },
      "source": [
        "## Logit lens\n",
        "\n",
        "Read : https://www.lesswrong.com/posts/AcKRB8wDpdaN6v6ru/interpreting-gpt-the-logit-lens\n",
        "\n",
        "Then try to reimplement it in a minimal way.\n",
        "\n",
        "\n",
        "Resources:\n",
        "- Read about hooks here https://pytorch.org/tutorials/beginner/former_torchies/nnft_tutorial.html#forward-and-backward-function-hooks\n",
        "- pip install transformer-utils and use the function _plot_logit_lens https://github.dev/nostalgebraist/transformer-utils/tree/main/src/transformer_utils/logit_lens\n"
      ]
    },
    {
      "cell_type": "code",
      "execution_count": 1,
      "metadata": {
        "id": "I7-hddPtE6mr"
      },
      "outputs": [],
      "source": [
        "!pip install transformers transformer_utils -q"
      ]
    },
    {
      "cell_type": "code",
      "execution_count": 2,
      "metadata": {
        "id": "L2woQwVAE6ms"
      },
      "outputs": [],
      "source": [
        "import torch\n",
        "import transformers\n",
        "\n",
        "# Minimal example\n",
        "model = transformers.AutoModelForCausalLM.from_pretrained('gpt2')\n",
        "tokenizer = transformers.AutoTokenizer.from_pretrained(\"gpt2\")\n",
        "model.eval()\n",
        "\n",
        "def text_to_input_ids(text):\n",
        "    toks = tokenizer.encode(text)\n",
        "    return torch.as_tensor(toks).view(1, -1)\n",
        "\n",
        "\n",
        "input_ids = text_to_input_ids(\"Happy birthday to You, happy\")"
      ]
    },
    {
      "cell_type": "code",
      "execution_count": 3,
      "metadata": {
        "id": "pvl-OVxpE6mt"
      },
      "outputs": [],
      "source": [
        "n_layers_gpt = len(model.base_model.h)\n",
        "outputs = [None] * n_layers_gpt\n",
        "handles = [None] * n_layers_gpt\n",
        "\n",
        "input_ids = text_to_input_ids(\"Happy birthday to you, happy birthday to\")\n",
        "\n",
        "def make_memorize_output_layer(layer):\n",
        "    def memorize_output_layer(self, input, output):\n",
        "        global outputs\n",
        "        outputs[layer] = output[0].detach()\n",
        "    return memorize_output_layer\n",
        "\n",
        "for i, gpt_block in enumerate(model.base_model.h):\n",
        "    handles[i] = gpt_block.register_forward_hook(make_memorize_output_layer(i))\n",
        "model(input_ids);"
      ]
    },
    {
      "cell_type": "code",
      "execution_count": 4,
      "metadata": {
        "colab": {
          "base_uri": "https://localhost:8080/"
        },
        "id": "3D7W4hgyE6mt",
        "outputId": "1cd1aeb0-3c2d-4619-eb14-15ee72745fac"
      },
      "outputs": [
        {
          "name": "stdout",
          "output_type": "stream",
          "text": [
            "\n",
            " birthday get're which happy anniversary get\n",
            ", birthday get're which happy anniversary get\n",
            ", holidays celebrate guys please happy anniversary get\n",
            ", anniversary celebrate guys please happy anniversary be\n",
            ", anniversary celebrate guys please happy! celebrate\n",
            ", anniversary celebrate guys please birthday! be\n",
            ",! thank guys dear birthday! everyone\n",
            ",! thank guys dear birthday! everyone\n",
            ",! my guys dear birthday to everyone\n",
            ",! my guys dear birthday to everyone\n",
            ", to my guys dear birthday to everyone\n",
            ",, you, my birthday to all\n"
          ]
        }
      ],
      "source": [
        "# last layer norm\n",
        "ln_f = model.base_model.ln_f\n",
        "\n",
        "layer_preds = []\n",
        "layer_logits = []\n",
        "layer_probs = []\n",
        "\n",
        "for layer_i, output in enumerate(outputs):\n",
        "    normalized_output = ln_f(output)\n",
        "\n",
        "    word_embeddings = model.base_model.wte.weight.detach()\n",
        "    word_distribution = torch.einsum(\"bte,we->btw\", [normalized_output, word_embeddings])\n",
        "    best_word = torch.argmax(word_distribution, dim=2)\n",
        "    output_text = tokenizer.decode(best_word[0])\n",
        "    print(output_text)\n",
        "    \n",
        "    layer_preds.append(best_word) \n",
        "    layer_logits.append(word_distribution) \n",
        "    layer_probs.append(torch.softmax(word_distribution, dim=2)) \n"
      ]
    },
    {
      "cell_type": "code",
      "execution_count": 5,
      "metadata": {
        "id": "AQS7PhbUE6mu"
      },
      "outputs": [],
      "source": [
        "from typing import List\n",
        "\n",
        "def to_tensor(list_tensor : List[torch.Tensor]) -> torch.Tensor:\n",
        "    list_tensor = [t.detach() for t in list_tensor]\n",
        "    return torch.concat(list_tensor, dim=0)"
      ]
    },
    {
      "cell_type": "code",
      "execution_count": 6,
      "metadata": {
        "colab": {
          "base_uri": "https://localhost:8080/",
          "height": 310
        },
        "id": "Mm3M5DlwE6mv",
        "outputId": "d7212432-0a04-48d4-d7df-29ed132a0b92"
      },
      "outputs": [
        {
          "data": {
            "image/png": "[encoded data removed]",
            "text/plain": [
              "<Figure size 864x324 with 3 Axes>"
            ]
          },
          "metadata": {
            "needs_background": "light"
          },
          "output_type": "display_data"
        }
      ],
      "source": [
        "from transformer_utils.logit_lens.plotting import _plot_logit_lens\n",
        "_plot_logit_lens(\n",
        "    to_tensor(layer_logits),\n",
        "    to_tensor(layer_preds),\n",
        "    to_tensor(layer_probs),\n",
        "    tokenizer,\n",
        "    input_ids=input_ids,\n",
        "    start_ix=0,\n",
        "    layer_names=[i for i in range(n_layers_gpt)],\n",
        "    probs=True,\n",
        "    ranks=False,\n",
        "    kl=False,\n",
        "    top_down=False,\n",
        ")"
      ]
    },
    {
      "cell_type": "markdown",
      "metadata": {
        "id": "xLAbUztFPNQk"
      },
      "source": [
        "## Probing\n",
        "\n",
        "Look at this youtube video to introduce you to probing: https://www.youtube.com/watch?v=HJn-OTNLnoE\n",
        "\n",
        "We will use the fetch_20newsgroups dataset, and we will classify the news.\n",
        "We will try to implement a small probe. Analyse each layer of GPT-2. Which layer contains most of the information we are insterested with?\n",
        "\n",
        "Questions: \n",
        "- What is your strategy to use the internal states of gpt-2 as features for classification?\n",
        "- Propose 2 other strategies that won't work.\n",
        "- Try to predict the score of each layer at classifying the fetch_20newsgroups dataset.\n",
        "- Implement and check your prediction.\n",
        "\n",
        "Bonu read this: https://arxiv.org/pdf/1704.01444.pdf\n",
        "\n"
      ]
    },
    {
      "cell_type": "code",
      "execution_count": 7,
      "metadata": {
        "id": "-Pko-7oBXtA9"
      },
      "outputs": [],
      "source": [
        "from sklearn.datasets import fetch_20newsgroups\n",
        "\n",
        "categories = ['alt.atheism', 'soc.religion.christian',\n",
        "              'comp.graphics', 'sci.med']\n",
        "              \n",
        "twenty_train = fetch_20newsgroups(subset='train',\n",
        "    categories=categories, shuffle=True, random_state=42)"
      ]
    },
    {
      "cell_type": "code",
      "execution_count": 8,
      "metadata": {
        "colab": {
          "base_uri": "https://localhost:8080/"
        },
        "id": "fyOkSITPYQXt",
        "outputId": "442694cc-1d5c-4b1e-d4c7-230428a2ccee"
      },
      "outputs": [
        {
          "name": "stdout",
          "output_type": "stream",
          "text": [
            "From: sd345@city.ac.uk (Michael Collier)\n",
            "Subject: Converting images to HP LaserJet III?\n",
            "Nntp-Posting-Host: hampton\n",
            "Organization: The City University\n",
            "Lines: 14\n",
            "\n",
            "Does anyone know of a good way (standard PC application/PD utility) to\n",
            "convert tif/img/tga files into LaserJet III format.  We would also like to\n",
            "do the same, converting to HPGL (HP plotter) files.\n",
            "\n",
            "Please email any response.\n",
            "\n",
            "Is this the correct group?\n",
            "\n",
            "Thanks in advance.  Michael.\n",
            "-- \n",
            "Michael Collier (Programmer)                 The Computer Unit,\n",
            "Email: M.P.Collier@uk.ac.city                The City University,\n",
            "Tel: 071 477-8000 x3769                      London,\n",
            "Fax: 071 477-8565                            EC1V 0HB.\n",
            "\n"
          ]
        }
      ],
      "source": [
        "print(twenty_train.data[0])"
      ]
    },
    {
      "cell_type": "code",
      "execution_count": 9,
      "metadata": {
        "colab": {
          "base_uri": "https://localhost:8080/"
        },
        "id": "W8Gm8z7dYa6l",
        "outputId": "72caf53a-8e4b-4223-9a13-558359be4626"
      },
      "outputs": [
        {
          "data": {
            "text/plain": [
              "1"
            ]
          },
          "execution_count": 9,
          "metadata": {},
          "output_type": "execute_result"
        }
      ],
      "source": [
        "twenty_train.target[0]"
      ]
    },
    {
      "cell_type": "code",
      "execution_count": 10,
      "metadata": {
        "colab": {
          "base_uri": "https://localhost:8080/",
          "height": 35
        },
        "id": "eOUsp96zZFK0",
        "outputId": "1e986348-bc0d-40b7-d42e-0246abde419a"
      },
      "outputs": [
        {
          "data": {
            "application/vnd.google.colaboratory.intrinsic+json": {
              "type": "string"
            },
            "text/plain": [
              "'comp.graphics'"
            ]
          },
          "execution_count": 10,
          "metadata": {},
          "output_type": "execute_result"
        }
      ],
      "source": [
        "twenty_train.target_names[twenty_train.target[0]]"
      ]
    },
    {
      "cell_type": "code",
      "execution_count": 11,
      "metadata": {
        "colab": {
          "base_uri": "https://localhost:8080/"
        },
        "id": "1NlgDIA8ZT5e",
        "outputId": "4a45ef32-d10e-4f3f-b040-3d69f954cfef"
      },
      "outputs": [
        {
          "data": {
            "text/plain": [
              "2257"
            ]
          },
          "execution_count": 11,
          "metadata": {},
          "output_type": "execute_result"
        }
      ],
      "source": [
        "len(twenty_train.target)"
      ]
    },
    {
      "cell_type": "markdown",
      "metadata": {
        "id": "rSrtT-2afHIt"
      },
      "source": [
        "https://huggingface.co/docs/transformers/main_classes/output#transformers.modeling_outputs.CausalLMOutputWithCrossAttentions"
      ]
    },
    {
      "cell_type": "code",
      "execution_count": null,
      "metadata": {
        "id": "uHhTAaeeadH_"
      },
      "outputs": [],
      "source": [
        "import numpy as np\n",
        "import torch\n",
        "from tqdm.auto import tqdm\n",
        "\n",
        "torch.cuda.empty_cache()\n",
        "embed_dim = 768\n",
        "n_layers = 12\n",
        "N = len(twenty_train.data)\n",
        "\n",
        "# We only take the last token\n",
        "# If you do not put everything in a single array, the memory explodes\n",
        "hidden_states = np.zeros((N, n_layers, embed_dim))\n",
        "device = torch.device(\"cuda\" if torch.cuda.is_available() else \"cpu\")\n",
        "\n",
        "activations = np.zeros((N, n_layers, embed_dim))\n",
        "\n",
        "model = model.to(device)\n",
        "model.eval()\n",
        "\n",
        "# Fill hidden_states\n",
        "with torch.no_grad():\n",
        "  for i, text in tqdm(enumerate(twenty_train.data), total=N):\n",
        "      input_ids = tokenizer.encode(text, return_tensors=\"pt\", truncation=True)\n",
        "      input_ids = input_ids.to(device)\n",
        "\n",
        "      outputs = model(input_ids, output_hidden_states=True)\n",
        "\n",
        "      # We skip the first layer only containing the embeddings\n",
        "      hidden_states_np = [layer_emb.cpu().detach().numpy() for layer_emb in outputs.hidden_states[1:]]\n",
        "\n",
        "      # We save only the last token\n",
        "      hidden_states[i] = np.concatenate([layer_emb[:, -1, :] for layer_emb in hidden_states_np], axis=0)\n"
      ]
    },
    {
      "cell_type": "code",
      "execution_count": null,
      "metadata": {
        "id": "B8r-6CuoN8P9"
      },
      "outputs": [],
      "source": [
        "np.save(\"hidden_states\", hidden_states)\n",
        "hidden_states.shape"
      ]
    },
    {
      "cell_type": "code",
      "execution_count": null,
      "metadata": {
        "id": "_4ajufYiWD52"
      },
      "outputs": [],
      "source": [
        "# If you do not have a gpu, use this line.\n",
        "# hidden_states = np.load(\"hidden_states.npy\")"
      ]
    },
    {
      "cell_type": "code",
      "execution_count": null,
      "metadata": {
        "id": "yqCv_-BT5T5_"
      },
      "outputs": [],
      "source": [
        "# Check the documentation of sklearn and use those imports to score each layer\n",
        "from sklearn.linear_model import LogisticRegression\n",
        "from sklearn.model_selection import train_test_split\n",
        "from sklearn.pipeline import make_pipeline\n",
        "from sklearn.preprocessing import StandardScaler\n",
        "\n",
        "scores = []\n",
        "for layer_i in range(n_layers):\n",
        "    X = hidden_states[:, layer_i, :]\n",
        "\n",
        "    y = twenty_train.target[:len(X)]\n",
        "\n",
        "    X_train, X_test, y_train, y_test = train_test_split(X, y)\n",
        "    pipe = make_pipeline(StandardScaler(), LogisticRegression(max_iter=1000))\n",
        "    pipe.fit(X_train, y_train)\n",
        "    score = pipe.score(X_test, y_test) \n",
        "    print(layer_i, score)\n",
        "  \n",
        "    scores.append(score)\n",
        "  "
      ]
    },
    {
      "cell_type": "code",
      "execution_count": null,
      "metadata": {
        "id": "cdYcn_BpQocQ"
      },
      "outputs": [],
      "source": [
        "import matplotlib.pyplot as plt\n",
        "plt.plot(list(range(len(scores))), scores)"
      ]
    },
    {
      "cell_type": "markdown",
      "metadata": {
        "id": "eJxcA9K_UWHK"
      },
      "source": [
        "# Activation Atlas"
      ]
    },
    {
      "cell_type": "markdown",
      "metadata": {
        "id": "dg9gsQPeUf_G"
      },
      "source": [
        "With out dataset we can also try to minimally reproduce the activation atlas paper:\n",
        "https://openai.com/blog/introducing-activation-atlases/\n",
        "\n",
        "\n",
        "Questions:\n",
        "- How to implement dimensionality reduction?\n",
        "- Install umap-learn.\n",
        "- Visualize the umap of the best previously selected layer. Comment.\n",
        "\n",
        "Bonus: Plot the sentences alongside the point in the UMAP plot. Chack that everything makes sense."
      ]
    },
    {
      "cell_type": "code",
      "execution_count": 22,
      "metadata": {
        "id": "Hkaea_ROUzcI"
      },
      "outputs": [],
      "source": [
        "!pip install umap-learn -q"
      ]
    },
    {
      "cell_type": "code",
      "execution_count": 19,
      "metadata": {
        "id": "ZLPRmRMtUV5G"
      },
      "outputs": [],
      "source": [
        "import numpy as np\n",
        "import matplotlib.pyplot as plt\n",
        "%matplotlib inline\n",
        "\n",
        "# Dimension reduction and clustering library\n",
        "import umap as umap"
      ]
    },
    {
      "cell_type": "code",
      "execution_count": 21,
      "metadata": {
        "colab": {
          "base_uri": "https://localhost:8080/",
          "height": 265
        },
        "id": "fqIxsTh5UUoN",
        "outputId": "f3663697-5db9-4b46-9b57-82f9a454cb13"
      },
      "outputs": [
        {
          "data": {
            "image/png": "[encoded data removed]",
            "text/plain": [
              "<Figure size 432x288 with 1 Axes>"
            ]
          },
          "metadata": {
            "needs_background": "light"
          },
          "output_type": "display_data"
        }
      ],
      "source": [
        "# Choose the best_layer\n",
        "best_layer = 2\n",
        "X = hidden_states_2[:, best_layer, :]\n",
        "y = twenty_train.target\n",
        "\n",
        "standard_embedding = umap.UMAP(random_state=42).fit_transform(X_train)\n",
        "plt.scatter(standard_embedding[:, 0], standard_embedding[:, 1], c=y.astype(int), s=0.1, cmap='Spectral');"
      ]
    },
    {
      "cell_type": "code",
      "execution_count": null,
      "metadata": {
        "id": "ekRmlnsmSRgu"
      },
      "outputs": [],
      "source": []
    }
  ],
  "metadata": {
    "accelerator": "GPU",
    "colab": {
      "name": "Copy of Copie de logit_lens.ipynb",
      "provenance": []
    },
    "gpuClass": "standard",
    "interpreter": {
      "hash": "2fd0984fba0281b5ef284af29ca774b719b1029bd52fddcabf8232d2cbd23e9e"
    },
    "kernelspec": {
      "display_name": "Python 3.7.13 ('automl37_install')",
      "language": "python",
      "name": "python3"
    },
    "language_info": {
      "codemirror_mode": {
        "name": "ipython",
        "version": 3
      },
      "file_extension": ".py",
      "mimetype": "text/x-python",
      "name": "python",
      "nbconvert_exporter": "python",
      "pygments_lexer": "ipython3",
      "version": "3.7.12"
    },
    "orig_nbformat": 4
  },
  "nbformat": 4,
  "nbformat_minor": 0
}
