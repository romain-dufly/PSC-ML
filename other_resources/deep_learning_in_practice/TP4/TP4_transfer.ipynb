{
  "nbformat": 4,
  "nbformat_minor": 0,
  "metadata": {
    "kernelspec": {
      "display_name": "Python 3",
      "language": "python",
      "name": "python3"
    },
    "language_info": {
      "codemirror_mode": {
        "name": "ipython",
        "version": 3
      },
      "file_extension": ".py",
      "mimetype": "text/x-python",
      "name": "python",
      "nbconvert_exporter": "python",
      "pygments_lexer": "ipython3",
      "version": "3.7.9"
    },
    "colab": {
      "name": "TP4_transfer.ipynb",
      "provenance": [],
      "collapsed_sections": []
    },
    "accelerator": "GPU",
    "widgets": {
      "application/vnd.jupyter.widget-state+json": {
        "3ceca585b3094c0b95c2d8bca4db4518": {
          "model_module": "@jupyter-widgets/controls",
          "model_name": "HBoxModel",
          "state": {
            "_view_name": "HBoxView",
            "_dom_classes": [],
            "_model_name": "HBoxModel",
            "_view_module": "@jupyter-widgets/controls",
            "_model_module_version": "1.5.0",
            "_view_count": null,
            "_view_module_version": "1.5.0",
            "box_style": "",
            "layout": "IPY_MODEL_ce7775a9dfff4318b8c3ca0e9c92da0f",
            "_model_module": "@jupyter-widgets/controls",
            "children": [
              "IPY_MODEL_db6d16d778f345bab62d4e021f443a8d",
              "IPY_MODEL_e4e32cee9ca34bee98358e4e349e2465"
            ]
          }
        },
        "ce7775a9dfff4318b8c3ca0e9c92da0f": {
          "model_module": "@jupyter-widgets/base",
          "model_name": "LayoutModel",
          "state": {
            "_view_name": "LayoutView",
            "grid_template_rows": null,
            "right": null,
            "justify_content": null,
            "_view_module": "@jupyter-widgets/base",
            "overflow": null,
            "_model_module_version": "1.2.0",
            "_view_count": null,
            "flex_flow": null,
            "width": null,
            "min_width": null,
            "border": null,
            "align_items": null,
            "bottom": null,
            "_model_module": "@jupyter-widgets/base",
            "top": null,
            "grid_column": null,
            "overflow_y": null,
            "overflow_x": null,
            "grid_auto_flow": null,
            "grid_area": null,
            "grid_template_columns": null,
            "flex": null,
            "_model_name": "LayoutModel",
            "justify_items": null,
            "grid_row": null,
            "max_height": null,
            "align_content": null,
            "visibility": null,
            "align_self": null,
            "height": null,
            "min_height": null,
            "padding": null,
            "grid_auto_rows": null,
            "grid_gap": null,
            "max_width": null,
            "order": null,
            "_view_module_version": "1.2.0",
            "grid_template_areas": null,
            "object_position": null,
            "object_fit": null,
            "grid_auto_columns": null,
            "margin": null,
            "display": null,
            "left": null
          }
        },
        "db6d16d778f345bab62d4e021f443a8d": {
          "model_module": "@jupyter-widgets/controls",
          "model_name": "FloatProgressModel",
          "state": {
            "_view_name": "ProgressView",
            "style": "IPY_MODEL_7ee324e536bd4913ba9bdf56f396db9a",
            "_dom_classes": [],
            "description": "",
            "_model_name": "FloatProgressModel",
            "bar_style": "info",
            "max": 1,
            "_view_module": "@jupyter-widgets/controls",
            "_model_module_version": "1.5.0",
            "value": 1,
            "_view_count": null,
            "_view_module_version": "1.5.0",
            "orientation": "horizontal",
            "min": 0,
            "description_tooltip": null,
            "_model_module": "@jupyter-widgets/controls",
            "layout": "IPY_MODEL_a9deaa74515e4b2e9940d538e2890fec"
          }
        },
        "e4e32cee9ca34bee98358e4e349e2465": {
          "model_module": "@jupyter-widgets/controls",
          "model_name": "HTMLModel",
          "state": {
            "_view_name": "HTMLView",
            "style": "IPY_MODEL_f8c27caf8c1b43c49fa0d425d935f8cb",
            "_dom_classes": [],
            "description": "",
            "_model_name": "HTMLModel",
            "placeholder": "​",
            "_view_module": "@jupyter-widgets/controls",
            "_model_module_version": "1.5.0",
            "value": " 170500096/? [00:20&lt;00:00, 56254290.46it/s]",
            "_view_count": null,
            "_view_module_version": "1.5.0",
            "description_tooltip": null,
            "_model_module": "@jupyter-widgets/controls",
            "layout": "IPY_MODEL_5f8238bc887c4ca4a6fd07f6e71930de"
          }
        },
        "7ee324e536bd4913ba9bdf56f396db9a": {
          "model_module": "@jupyter-widgets/controls",
          "model_name": "ProgressStyleModel",
          "state": {
            "_view_name": "StyleView",
            "_model_name": "ProgressStyleModel",
            "description_width": "initial",
            "_view_module": "@jupyter-widgets/base",
            "_model_module_version": "1.5.0",
            "_view_count": null,
            "_view_module_version": "1.2.0",
            "bar_color": null,
            "_model_module": "@jupyter-widgets/controls"
          }
        },
        "a9deaa74515e4b2e9940d538e2890fec": {
          "model_module": "@jupyter-widgets/base",
          "model_name": "LayoutModel",
          "state": {
            "_view_name": "LayoutView",
            "grid_template_rows": null,
            "right": null,
            "justify_content": null,
            "_view_module": "@jupyter-widgets/base",
            "overflow": null,
            "_model_module_version": "1.2.0",
            "_view_count": null,
            "flex_flow": null,
            "width": null,
            "min_width": null,
            "border": null,
            "align_items": null,
            "bottom": null,
            "_model_module": "@jupyter-widgets/base",
            "top": null,
            "grid_column": null,
            "overflow_y": null,
            "overflow_x": null,
            "grid_auto_flow": null,
            "grid_area": null,
            "grid_template_columns": null,
            "flex": null,
            "_model_name": "LayoutModel",
            "justify_items": null,
            "grid_row": null,
            "max_height": null,
            "align_content": null,
            "visibility": null,
            "align_self": null,
            "height": null,
            "min_height": null,
            "padding": null,
            "grid_auto_rows": null,
            "grid_gap": null,
            "max_width": null,
            "order": null,
            "_view_module_version": "1.2.0",
            "grid_template_areas": null,
            "object_position": null,
            "object_fit": null,
            "grid_auto_columns": null,
            "margin": null,
            "display": null,
            "left": null
          }
        },
        "f8c27caf8c1b43c49fa0d425d935f8cb": {
          "model_module": "@jupyter-widgets/controls",
          "model_name": "DescriptionStyleModel",
          "state": {
            "_view_name": "StyleView",
            "_model_name": "DescriptionStyleModel",
            "description_width": "",
            "_view_module": "@jupyter-widgets/base",
            "_model_module_version": "1.5.0",
            "_view_count": null,
            "_view_module_version": "1.2.0",
            "_model_module": "@jupyter-widgets/controls"
          }
        },
        "5f8238bc887c4ca4a6fd07f6e71930de": {
          "model_module": "@jupyter-widgets/base",
          "model_name": "LayoutModel",
          "state": {
            "_view_name": "LayoutView",
            "grid_template_rows": null,
            "right": null,
            "justify_content": null,
            "_view_module": "@jupyter-widgets/base",
            "overflow": null,
            "_model_module_version": "1.2.0",
            "_view_count": null,
            "flex_flow": null,
            "width": null,
            "min_width": null,
            "border": null,
            "align_items": null,
            "bottom": null,
            "_model_module": "@jupyter-widgets/base",
            "top": null,
            "grid_column": null,
            "overflow_y": null,
            "overflow_x": null,
            "grid_auto_flow": null,
            "grid_area": null,
            "grid_template_columns": null,
            "flex": null,
            "_model_name": "LayoutModel",
            "justify_items": null,
            "grid_row": null,
            "max_height": null,
            "align_content": null,
            "visibility": null,
            "align_self": null,
            "height": null,
            "min_height": null,
            "padding": null,
            "grid_auto_rows": null,
            "grid_gap": null,
            "max_width": null,
            "order": null,
            "_view_module_version": "1.2.0",
            "grid_template_areas": null,
            "object_position": null,
            "object_fit": null,
            "grid_auto_columns": null,
            "margin": null,
            "display": null,
            "left": null
          }
        }
      }
    }
  },
  "cells": [
    {
      "cell_type": "markdown",
      "metadata": {
        "id": "wbZx-k-k0heL"
      },
      "source": [
        "# Authors: Hugo Laurençon (hugo.laurencon@gmail.com) and Charbel-Raphaël Ségerie (charbel-raphael.segerie@hotmail.fr)\n"
      ]
    },
    {
      "cell_type": "markdown",
      "metadata": {
        "id": "5FAjy3LNmao-"
      },
      "source": [
        "# Small data and deep learning\n",
        "This Pratical session proposes to study several techniques for improving challenging context, in which few data and resources are available."
      ]
    },
    {
      "cell_type": "markdown",
      "metadata": {
        "id": "riH_xmiEmapE"
      },
      "source": [
        "# Introduction\n",
        "Assume we are in a context where few \"gold\" labeled data are available for training, say $\\mathcal{X}_{\\text{train}}\\triangleq\\{(x_n,y_n)\\}_{n\\leq N_{\\text{train}}}$, where $N_{\\text{train}}$ is small. A large test set $\\mathcal{X}_{\\text{test}}$ is available. A large amount of unlabeled data, $\\mathcal{X}$, is available. We also assume that we have a limited computational budget (e.g., no GPUs).\n",
        "\n",
        "For each question, write a commented *Code* or a complete answer as a *Markdown*. When the objective of a question is to report a CNN accuracy, please use the following format to report it, at the end of the question:\n",
        "\n",
        "| Model | Number of  epochs  | Train accuracy | Test accuracy |\n",
        "|------|------|------|------|\n",
        "|   XXX  | XXX | XXX | XXX |\n",
        "\n",
        "If applicable, please add the field corresponding to the  __Accuracy on Full Data__ as well as a link to the __Reference paper__ you used to report those numbers. (You do not need to train a CNN on the full CIFAR10 dataset)\n",
        "\n",
        "In your final report, please keep the logs of each training procedure you used. We will only run this jupyter if we have some doubts on your implementation. \n",
        "\n",
        "__The total file sizes should be reasonable (feasible with 2MB only!). You will be asked to hand in the notebook, together with any necessary files required to run it if any.__\n",
        "\n",
        "\n",
        "You can use https://colab.research.google.com/ to run your experiments."
      ]
    },
    {
      "cell_type": "markdown",
      "metadata": {
        "id": "_jNiDmUjmapG"
      },
      "source": [
        "## Training set creation\n",
        "__Question 1 (2 points):__ Propose a dataloader or modify the file located at https://github.com/pytorch/vision/blob/master/torchvision/datasets/cifar.py in order to obtain a training loader that will only use the first 100 samples of the CIFAR-10 training set. "
      ]
    },
    {
      "cell_type": "code",
      "metadata": {
        "id": "C42e0zkimapG"
      },
      "source": [
        "import torch\n",
        "import torch.nn as nn\n",
        "import torch.nn.functional as F\n",
        "import torch.nn.init as init\n",
        "import torch.optim as optim\n",
        "import torch.backends.cudnn as cudnn\n",
        "import torchvision\n",
        "import torchvision.transforms as transforms\n",
        "import torchvision.models as models\n",
        "\n",
        "import numpy as np\n",
        "import matplotlib.pyplot as plt\n",
        "\n",
        "device = 'cuda' if torch.cuda.is_available() else 'cpu'"
      ],
      "execution_count": 1,
      "outputs": []
    },
    {
      "cell_type": "code",
      "metadata": {
        "colab": {
          "base_uri": "https://localhost:8080/",
          "height": 134,
          "referenced_widgets": [
            "3ceca585b3094c0b95c2d8bca4db4518",
            "ce7775a9dfff4318b8c3ca0e9c92da0f",
            "db6d16d778f345bab62d4e021f443a8d",
            "e4e32cee9ca34bee98358e4e349e2465",
            "7ee324e536bd4913ba9bdf56f396db9a",
            "a9deaa74515e4b2e9940d538e2890fec",
            "f8c27caf8c1b43c49fa0d425d935f8cb",
            "5f8238bc887c4ca4a6fd07f6e71930de"
          ]
        },
        "id": "3oAjx5mJtUZO",
        "outputId": "d94e8630-9294-4de3-98a1-e49a31cb8acc"
      },
      "source": [
        "N_train = 100\n",
        "batch_size_small = 10\n",
        "batch_size_big = 128\n",
        "\n",
        "transform = transforms.Compose([transforms.ToTensor(),\n",
        "                                transforms.Normalize((0.5, 0.5, 0.5), (0.5, 0.5, 0.5))])\n",
        "\n",
        "trainset = torchvision.datasets.CIFAR10(root='./data', train=True,\n",
        "                                        download=True, transform=transform)\n",
        "Xtrain_loader = torch.utils.data.DataLoader(trainset, batch_size=batch_size_small,\n",
        "                                          shuffle=False, num_workers=2,\n",
        "                                          sampler=torch.utils.data.sampler.SubsetRandomSampler([i for i in range(N_train)]))\n",
        "X_loader = torch.utils.data.DataLoader(trainset, batch_size=batch_size_big,\n",
        "                                       shuffle=False, num_workers=2,\n",
        "                                       sampler=torch.utils.data.sampler.SubsetRandomSampler([i for i in range(N_train, len(trainset))]))\n",
        "\n",
        "testset = torchvision.datasets.CIFAR10(root='./data', train=False,\n",
        "                                       download=True, transform=transform)\n",
        "Xtest_loader = torch.utils.data.DataLoader(testset, batch_size=batch_size_big,\n",
        "                                         shuffle=False, num_workers=2)\n",
        "\n",
        "classes = ('plane', 'car', 'bird', 'cat',\n",
        "           'deer', 'dog', 'frog', 'horse', 'ship', 'truck')\n",
        "\n",
        "number_labels_class = [0 for i in range(len(classes))] # Number of labels in each class in the training set\n",
        "dataiter = iter(Xtrain_loader)\n",
        "for i in range(len(dataiter)):\n",
        "    _, labels = dataiter.next()\n",
        "    for lab in labels:\n",
        "        number_labels_class[lab] += 1\n",
        "print(\"Number of labels in each class in the training set:\")\n",
        "print(number_labels_class)"
      ],
      "execution_count": 2,
      "outputs": [
        {
          "output_type": "stream",
          "text": [
            "Downloading https://www.cs.toronto.edu/~kriz/cifar-10-python.tar.gz to ./data/cifar-10-python.tar.gz\n"
          ],
          "name": "stdout"
        },
        {
          "output_type": "display_data",
          "data": {
            "application/vnd.jupyter.widget-view+json": {
              "model_id": "3ceca585b3094c0b95c2d8bca4db4518",
              "version_minor": 0,
              "version_major": 2
            },
            "text/plain": [
              "HBox(children=(FloatProgress(value=1.0, bar_style='info', max=1.0), HTML(value='')))"
            ]
          },
          "metadata": {
            "tags": []
          }
        },
        {
          "output_type": "stream",
          "text": [
            "Extracting ./data/cifar-10-python.tar.gz to ./data\n",
            "Files already downloaded and verified\n",
            "Number of labels in each class in the training set:\n",
            "[6, 16, 13, 13, 11, 7, 7, 11, 4, 12]\n"
          ],
          "name": "stdout"
        }
      ]
    },
    {
      "cell_type": "markdown",
      "metadata": {
        "id": "Unw1n3WZmapH"
      },
      "source": [
        "This is our dataset $\\mathcal{X}_{\\text{train}}$, it will be used until the end of this project. The remaining samples correspond to $\\mathcal{X}$. The testing set $\\mathcal{X}_{\\text{test}}$ corresponds to the whole testing set of CIFAR-10."
      ]
    },
    {
      "cell_type": "markdown",
      "metadata": {
        "id": "6CoWXTbjmapI"
      },
      "source": [
        "## Testing procedure\n",
        "__Question 2 (1.5 points):__ Explain why the evaluation of the training procedure is difficult. Propose several solutions."
      ]
    },
    {
      "cell_type": "markdown",
      "metadata": {
        "id": "D3ZpkoEPmapJ"
      },
      "source": [
        "<font color='red'>We only have $N_{train}=100$ labels for the training set. If all classes are equal in length in the training set, this would mean that we have only $10$ samples per class, which is very small. If, instead, a certain class is under-represented, this is even worse. This is the case here where we are forced to take the first $100$ samples of the training set, even if the 9th class contains only 4 samples.</font>\n",
        "\n",
        "<font color='red'>The evaluation of the training might be difficult because if the network has too many parameters, we will typically directly overfit on these $100$ examples after few epochs, especially for the class with only 4 samples. Even if the network does not have too many parameters, we can have an high variance output depending on the chosen training set, because when we choose a very small dataset, we can indeed expect that some small datasets contain better examples to learn from than others. Therefore, we will have to give details on the training set while giving accuracies at the end of the training since they are likely to depend on that.</font>\n",
        "\n",
        "<font color='red'>Some solutions for these problems are the following: reducing the generality of the model by reducing its number of learnable parameters or reducing the number of epochs it is trained on, implementing some kind of regularization in the network (for example with dropout), and choosing a not too large learning rate in order not to converge too fast.</font>"
      ]
    },
    {
      "cell_type": "markdown",
      "metadata": {
        "id": "Bhc1ArRamapO"
      },
      "source": [
        "# Raw approach: the baseline"
      ]
    },
    {
      "cell_type": "markdown",
      "metadata": {
        "id": "8J2CQ6_VmapO"
      },
      "source": [
        "In this section, the goal is to train a CNN on $\\mathcal{X}_{\\text{train}}$ and compare its performance with reported numbers from the litterature. You will have to re-use and/or design a standard classification pipeline. You should optimize your pipeline to obtain the best performances (image size, data augmentation by flip, ...).\n",
        "\n",
        "The key ingredients for training a CNN are the batch size, as well as the learning rate schedule, i.e. how to decrease the learning rate as a function of the number of epochs. A possible schedule is to start the learning rate at 0.1 and decreasing it every 30 epochs by 10. In case of divergence, reduce the laerning rate. A potential batch size could be 10, yet this can be cross-validated.\n",
        "\n",
        "You can get some baselines accuracies in this paper: http://openaccess.thecvf.com/content_cvpr_2018/papers/Keshari_Learning_Structure_and_CVPR_2018_paper.pdf. Obviously, it is a different context for those researchers who had access to GPUs."
      ]
    },
    {
      "cell_type": "markdown",
      "metadata": {
        "id": "PE_uePMVmapP"
      },
      "source": [
        "## ResNet architectures"
      ]
    },
    {
      "cell_type": "markdown",
      "metadata": {
        "id": "xDJoXTWKmapP"
      },
      "source": [
        "__Question 3 (4 points):__ Write a classification pipeline for $\\mathcal{X}_{\\text{train}}$, train from scratch and evaluate a *ResNet-18* architecture specific to CIFAR10 (details about the ImageNet model can be found here: https://arxiv.org/abs/1512.03385). Please report the accuracy obtained on the whole dataset as well as the reference paper/GitHub link.\n",
        "\n",
        "*Hint:* You can re-use the following code: https://github.com/kuangliu/pytorch-cifar. During a training of 10 epochs, a batch size of 10 and a learning rate of 0.01, one obtains 40% accuracy on $\\mathcal{X}_{\\text{train}}$ (\\~2 minutes) and 20% accuracy on $\\mathcal{X}_{\\text{test}}$ (\\~5 minutes)."
      ]
    },
    {
      "cell_type": "code",
      "metadata": {
        "id": "ruQygc5WmapP"
      },
      "source": [
        "# Code mainly adapted from https://github.com/kuangliu/pytorch-cifar\n",
        "\n",
        "class BasicBlock(nn.Module):\n",
        "    expansion = 1\n",
        "\n",
        "    def __init__(self, in_planes, planes, stride=1):\n",
        "        super(BasicBlock, self).__init__()\n",
        "        self.conv1 = nn.Conv2d(\n",
        "            in_planes, planes, kernel_size=3, stride=stride, padding=1, bias=False)\n",
        "        self.bn1 = nn.BatchNorm2d(planes)\n",
        "        self.conv2 = nn.Conv2d(planes, planes, kernel_size=3,\n",
        "                               stride=1, padding=1, bias=False)\n",
        "        self.bn2 = nn.BatchNorm2d(planes)\n",
        "\n",
        "        self.shortcut = nn.Sequential()\n",
        "        if stride != 1 or in_planes != self.expansion*planes:\n",
        "            self.shortcut = nn.Sequential(\n",
        "                nn.Conv2d(in_planes, self.expansion*planes,\n",
        "                          kernel_size=1, stride=stride, bias=False),\n",
        "                nn.BatchNorm2d(self.expansion*planes)\n",
        "            )\n",
        "\n",
        "    def forward(self, x):\n",
        "        out = F.relu(self.bn1(self.conv1(x)))\n",
        "        out = self.bn2(self.conv2(out))\n",
        "        out += self.shortcut(x)\n",
        "        out = F.relu(out)\n",
        "        return out\n",
        "\n",
        "\n",
        "class Bottleneck(nn.Module):\n",
        "    expansion = 4\n",
        "\n",
        "    def __init__(self, in_planes, planes, stride=1):\n",
        "        super(Bottleneck, self).__init__()\n",
        "        self.conv1 = nn.Conv2d(in_planes, planes, kernel_size=1, bias=False)\n",
        "        self.bn1 = nn.BatchNorm2d(planes)\n",
        "        self.conv2 = nn.Conv2d(planes, planes, kernel_size=3,\n",
        "                               stride=stride, padding=1, bias=False)\n",
        "        self.bn2 = nn.BatchNorm2d(planes)\n",
        "        self.conv3 = nn.Conv2d(planes, self.expansion *\n",
        "                               planes, kernel_size=1, bias=False)\n",
        "        self.bn3 = nn.BatchNorm2d(self.expansion*planes)\n",
        "\n",
        "        self.shortcut = nn.Sequential()\n",
        "        if stride != 1 or in_planes != self.expansion*planes:\n",
        "            self.shortcut = nn.Sequential(\n",
        "                nn.Conv2d(in_planes, self.expansion*planes,\n",
        "                          kernel_size=1, stride=stride, bias=False),\n",
        "                nn.BatchNorm2d(self.expansion*planes)\n",
        "            )\n",
        "\n",
        "    def forward(self, x):\n",
        "        out = F.relu(self.bn1(self.conv1(x)))\n",
        "        out = F.relu(self.bn2(self.conv2(out)))\n",
        "        out = self.bn3(self.conv3(out))\n",
        "        out += self.shortcut(x)\n",
        "        out = F.relu(out)\n",
        "        return out\n",
        "\n",
        "\n",
        "class ResNet(nn.Module):\n",
        "    def __init__(self, block, num_blocks, num_classes=10):\n",
        "        super(ResNet, self).__init__()\n",
        "        self.in_planes = 64\n",
        "\n",
        "        self.conv1 = nn.Conv2d(3, 64, kernel_size=3,\n",
        "                               stride=1, padding=1, bias=False)\n",
        "        self.bn1 = nn.BatchNorm2d(64)\n",
        "        self.layer1 = self._make_layer(block, 64, num_blocks[0], stride=1)\n",
        "        self.layer2 = self._make_layer(block, 128, num_blocks[1], stride=2)\n",
        "        self.layer3 = self._make_layer(block, 256, num_blocks[2], stride=2)\n",
        "        self.layer4 = self._make_layer(block, 512, num_blocks[3], stride=2)\n",
        "        self.linear = nn.Linear(512*block.expansion, num_classes)\n",
        "\n",
        "    def _make_layer(self, block, planes, num_blocks, stride):\n",
        "        strides = [stride] + [1]*(num_blocks-1)\n",
        "        layers = []\n",
        "        for stride in strides:\n",
        "            layers.append(block(self.in_planes, planes, stride))\n",
        "            self.in_planes = planes * block.expansion\n",
        "        return nn.Sequential(*layers)\n",
        "\n",
        "    def forward(self, x):\n",
        "        out = F.relu(self.bn1(self.conv1(x)))\n",
        "        out = self.layer1(out)\n",
        "        out = self.layer2(out)\n",
        "        out = self.layer3(out)\n",
        "        out = self.layer4(out)\n",
        "        out = F.avg_pool2d(out, 4)\n",
        "        out = out.view(out.size(0), -1)\n",
        "        out = self.linear(out)\n",
        "        return out\n",
        "\n",
        "\n",
        "def ResNet18():\n",
        "    return ResNet(BasicBlock, [2, 2, 2, 2])\n",
        "\n",
        "\n",
        "def training(net, trainloader, testloader, n_epoch, learning_rate):\n",
        "    criterion = nn.CrossEntropyLoss()\n",
        "    optimizer = optim.Adam(net.parameters(), lr=learning_rate)\n",
        "    scheduler = torch.optim.lr_scheduler.CosineAnnealingLR(optimizer, T_max=200)\n",
        "    \n",
        "    for epoch in range(n_epochs):\n",
        "        print('\\nEpoch: %d' % epoch)\n",
        "        net.train()\n",
        "        train_loss = 0\n",
        "        correct = 0\n",
        "        total = 0\n",
        "        for batch_idx, (inputs, targets) in enumerate(trainloader):\n",
        "            inputs, targets = inputs.to(device), targets.to(device)\n",
        "            optimizer.zero_grad()\n",
        "            outputs = net(inputs)\n",
        "            loss = criterion(outputs, targets)\n",
        "            loss.backward()\n",
        "            optimizer.step()\n",
        "\n",
        "            train_loss += loss.item()\n",
        "            _, predicted = outputs.max(1)\n",
        "            total += targets.size(0)\n",
        "            correct += predicted.eq(targets).sum().item()\n",
        "\n",
        "            #print('Batch: ' + str((batch_idx +  1)) + ' / ' + str(len(trainloader)),\n",
        "            #      '| Train loss: %.3f | Train acc: %.2f%% (%d/%d)' \n",
        "            #      % (train_loss/(batch_idx+1), 100.*correct/total, correct, total))\n",
        "        print('Train loss: %.3f | Train acc: %.2f%% (%d/%d)'\n",
        "              % (train_loss/len(trainloader), 100.*correct/total, correct, total))\n",
        "        \n",
        "        net.eval()\n",
        "        test_loss = 0\n",
        "        correct_test = 0\n",
        "        total_test = 0\n",
        "        with torch.no_grad():\n",
        "            for batch_idx, (inputs, targets) in enumerate(testloader):\n",
        "                inputs, targets = inputs.to(device), targets.to(device)\n",
        "                outputs = net(inputs)\n",
        "                loss = criterion(outputs, targets)\n",
        "\n",
        "                test_loss += loss.item()\n",
        "                _, predicted = outputs.max(1)\n",
        "                total_test += targets.size(0)\n",
        "                correct_test += predicted.eq(targets).sum().item()\n",
        "\n",
        "        print('Test loss: %.3f | Test acc: %.2f%% (%d/%d)'\n",
        "              % (test_loss/len(testloader), 100.*correct_test/total_test, correct_test, total_test))\n",
        "        \n",
        "        scheduler.step()\n",
        "        "
      ],
      "execution_count": 3,
      "outputs": []
    },
    {
      "cell_type": "code",
      "metadata": {
        "colab": {
          "base_uri": "https://localhost:8080/"
        },
        "id": "Qj8KZdlPT1jR",
        "outputId": "13857223-b125-4f48-bf6a-27f294ed0a90"
      },
      "source": [
        "learning_rate = 0.01\n",
        "n_epochs = 25\n",
        "\n",
        "net_part = ResNet18() # Network that will be trained on partial training data\n",
        "net_part = net_part.to(device)\n",
        "if device == 'cuda':\n",
        "    net_part = torch.nn.DataParallel(net_part)\n",
        "    cudnn.benchmark = True\n",
        "\n",
        "training(net_part, Xtrain_loader, Xtest_loader, n_epochs, learning_rate)\n"
      ],
      "execution_count": null,
      "outputs": [
        {
          "output_type": "stream",
          "text": [
            "\n",
            "Epoch: 0\n",
            "Train loss: 4.743 | Train acc: 11.00% (11/100)\n",
            "Test loss: 2454.084 | Test acc: 9.01% (901/10000)\n",
            "\n",
            "Epoch: 1\n",
            "Train loss: 3.517 | Train acc: 15.00% (15/100)\n",
            "Test loss: 81.806 | Test acc: 16.05% (1605/10000)\n",
            "\n",
            "Epoch: 2\n",
            "Train loss: 2.631 | Train acc: 11.00% (11/100)\n",
            "Test loss: 31.238 | Test acc: 15.43% (1543/10000)\n",
            "\n",
            "Epoch: 3\n",
            "Train loss: 2.470 | Train acc: 20.00% (20/100)\n",
            "Test loss: 6.690 | Test acc: 17.30% (1730/10000)\n",
            "\n",
            "Epoch: 4\n",
            "Train loss: 2.235 | Train acc: 20.00% (20/100)\n",
            "Test loss: 2.910 | Test acc: 17.05% (1705/10000)\n",
            "\n",
            "Epoch: 5\n",
            "Train loss: 2.131 | Train acc: 31.00% (31/100)\n",
            "Test loss: 2.679 | Test acc: 18.49% (1849/10000)\n",
            "\n",
            "Epoch: 6\n",
            "Train loss: 2.152 | Train acc: 17.00% (17/100)\n",
            "Test loss: 3.160 | Test acc: 16.49% (1649/10000)\n",
            "\n",
            "Epoch: 7\n",
            "Train loss: 1.877 | Train acc: 35.00% (35/100)\n",
            "Test loss: 3.461 | Test acc: 16.80% (1680/10000)\n",
            "\n",
            "Epoch: 8\n",
            "Train loss: 1.975 | Train acc: 24.00% (24/100)\n",
            "Test loss: 2.788 | Test acc: 18.31% (1831/10000)\n",
            "\n",
            "Epoch: 9\n",
            "Train loss: 1.893 | Train acc: 31.00% (31/100)\n",
            "Test loss: 2.417 | Test acc: 18.88% (1888/10000)\n",
            "\n",
            "Epoch: 10\n",
            "Train loss: 1.873 | Train acc: 32.00% (32/100)\n",
            "Test loss: 2.844 | Test acc: 17.72% (1772/10000)\n",
            "\n",
            "Epoch: 11\n",
            "Train loss: 1.782 | Train acc: 37.00% (37/100)\n",
            "Test loss: 2.426 | Test acc: 19.50% (1950/10000)\n",
            "\n",
            "Epoch: 12\n",
            "Train loss: 1.788 | Train acc: 38.00% (38/100)\n",
            "Test loss: 3.934 | Test acc: 18.70% (1870/10000)\n",
            "\n",
            "Epoch: 13\n",
            "Train loss: 1.852 | Train acc: 35.00% (35/100)\n",
            "Test loss: 2.476 | Test acc: 17.99% (1799/10000)\n",
            "\n",
            "Epoch: 14\n",
            "Train loss: 1.807 | Train acc: 36.00% (36/100)\n",
            "Test loss: 2.618 | Test acc: 17.90% (1790/10000)\n",
            "\n",
            "Epoch: 15\n",
            "Train loss: 1.822 | Train acc: 32.00% (32/100)\n",
            "Test loss: 2.471 | Test acc: 18.26% (1826/10000)\n",
            "\n",
            "Epoch: 16\n",
            "Train loss: 1.638 | Train acc: 43.00% (43/100)\n",
            "Test loss: 2.384 | Test acc: 20.58% (2058/10000)\n",
            "\n",
            "Epoch: 17\n",
            "Train loss: 1.538 | Train acc: 42.00% (42/100)\n",
            "Test loss: 2.599 | Test acc: 21.03% (2103/10000)\n",
            "\n",
            "Epoch: 18\n",
            "Train loss: 1.389 | Train acc: 46.00% (46/100)\n",
            "Test loss: 2.771 | Test acc: 18.37% (1837/10000)\n",
            "\n",
            "Epoch: 19\n",
            "Train loss: 1.347 | Train acc: 49.00% (49/100)\n",
            "Test loss: 3.289 | Test acc: 20.93% (2093/10000)\n",
            "\n",
            "Epoch: 20\n",
            "Train loss: 1.220 | Train acc: 54.00% (54/100)\n",
            "Test loss: 3.589 | Test acc: 21.48% (2148/10000)\n",
            "\n",
            "Epoch: 21\n",
            "Train loss: 1.385 | Train acc: 49.00% (49/100)\n",
            "Test loss: 4.384 | Test acc: 19.78% (1978/10000)\n",
            "\n",
            "Epoch: 22\n",
            "Train loss: 1.309 | Train acc: 53.00% (53/100)\n",
            "Test loss: 3.398 | Test acc: 20.60% (2060/10000)\n",
            "\n",
            "Epoch: 23\n",
            "Train loss: 1.092 | Train acc: 56.00% (56/100)\n",
            "Test loss: 3.576 | Test acc: 19.66% (1966/10000)\n",
            "\n",
            "Epoch: 24\n",
            "Train loss: 1.035 | Train acc: 63.00% (63/100)\n",
            "Test loss: 3.500 | Test acc: 21.65% (2165/10000)\n"
          ],
          "name": "stdout"
        }
      ]
    },
    {
      "cell_type": "markdown",
      "metadata": {
        "id": "rLeGaDSj548n"
      },
      "source": [
        "<font color='red'> We obtained the following results after training a ResNet-18 architecture for $25$ epochs, with an Adam optimizer, a learning rate of $0.01$ and a batch size of $10$, on $X_{train}$ (which contains only 100 labeled data points):</font>\n",
        "\n",
        "| Model |  Number of  epochs | Train accuracy | Test accuracy |\n",
        "|-------|--------|-------------|--------------------------------------|\n",
        "|ResNet-18 trained on $X_{train}$|$25$|$63\\%$ $(63/100)$|$21.65\\%$ $(2165/10000)$|\n",
        "\n",
        "<font color='red'>The test accuracy obtained when the model is trained on the whole dataset is $93.02\\%$ according to [this GitHub repo](https://github.com/kuangliu/pytorch-cifar). According to the [original paper](https://arxiv.org/pdf/1512.03385.pdf), results are a bit worse because a ResNet-20 architecture, which is a bit more expressive than a ResNet-18 architecture, achieved a test accuracy of $91.25\\%$.</font>\n"
      ]
    },
    {
      "cell_type": "markdown",
      "metadata": {
        "id": "ADv_clO2mapQ"
      },
      "source": [
        "# Transfer learning"
      ]
    },
    {
      "cell_type": "markdown",
      "metadata": {
        "id": "CMYFSItdmapR"
      },
      "source": [
        "We propose to use pre-trained models on a classification and generative task, in order to improve the results of our setting."
      ]
    },
    {
      "cell_type": "markdown",
      "metadata": {
        "id": "LkoKmOH5mapR"
      },
      "source": [
        "## ImageNet features"
      ]
    },
    {
      "cell_type": "markdown",
      "metadata": {
        "id": "o3wRnzVfmapR"
      },
      "source": [
        "Now, we will use some pre-trained models on ImageNet and see how well they compare on CIFAR. A list is available on: https://pytorch.org/docs/stable/torchvision/models.html.\n",
        "\n",
        "__Question 4 (3 points):__ Pick a model from the list above, adapt it for CIFAR and retrain its final layer (or a block of layers, depending on the resources to which you have access to). Report its accuracy."
      ]
    },
    {
      "cell_type": "code",
      "metadata": {
        "collapsed": true,
        "id": "nhKAeBT8mapS",
        "colab": {
          "base_uri": "https://localhost:8080/"
        },
        "outputId": "f069ddaa-2d46-4f05-e1dc-02dc47ea9043"
      },
      "source": [
        "# New transformation to rescale images\n",
        "transform_resize = transforms.Compose([transforms.Resize(256),\n",
        "                                       transforms.CenterCrop(224),\n",
        "                                       transforms.ToTensor(),\n",
        "                                       transforms.Normalize(mean=[0.485, 0.456, 0.406],\n",
        "                                                            std=[0.229, 0.224, 0.225])])\n",
        "\n",
        "trainset_resize = torchvision.datasets.CIFAR10(root='./data', train=True,\n",
        "                                               download=True, transform=transform_resize)\n",
        "Xtrain_loader_resize = torch.utils.data.DataLoader(trainset_resize, batch_size=batch_size_small,\n",
        "                                                   shuffle=False, num_workers=2,\n",
        "                                                   sampler=torch.utils.data.sampler.SubsetRandomSampler([i for i in range(N_train)]))\n",
        "X_loader_resize = torch.utils.data.DataLoader(trainset_resize, batch_size=batch_size_big,\n",
        "                                              shuffle=False, num_workers=2,\n",
        "                                              sampler=torch.utils.data.sampler.SubsetRandomSampler([i for i in range(N_train, len(trainset))]))\n",
        "\n",
        "testset_resize = torchvision.datasets.CIFAR10(root='./data', train=False,\n",
        "                                              download=True, transform=transform_resize)\n",
        "Xtest_loader_resize = torch.utils.data.DataLoader(testset_resize, batch_size=batch_size_big,\n",
        "                                                  shuffle=False, num_workers=2)"
      ],
      "execution_count": 4,
      "outputs": [
        {
          "output_type": "stream",
          "text": [
            "Files already downloaded and verified\n",
            "Files already downloaded and verified\n"
          ],
          "name": "stdout"
        }
      ]
    },
    {
      "cell_type": "code",
      "metadata": {
        "colab": {
          "base_uri": "https://localhost:8080/"
        },
        "id": "_VALmxbXQMV3",
        "outputId": "54a5a66f-0662-46e1-912a-cb501faa99c0"
      },
      "source": [
        "resnet18 = models.resnet18(pretrained=True)\n",
        "for param in resnet18.parameters():\n",
        "    param.requires_grad = False\n",
        "resnet18.fc = nn.Linear(512, len(classes))\n",
        "\n",
        "resnet18 = resnet18.to(device)\n",
        "if device == 'cuda':\n",
        "    resnet18 = torch.nn.DataParallel(resnet18)\n",
        "    cudnn.benchmark = True\n",
        "\n",
        "learning_rate = 0.01\n",
        "n_epochs = 15\n",
        "training(resnet18, Xtrain_loader_resize, Xtest_loader_resize, n_epochs, learning_rate)"
      ],
      "execution_count": null,
      "outputs": [
        {
          "output_type": "stream",
          "text": [
            "\n",
            "Epoch: 0\n",
            "Train loss: 4.749 | Train acc: 14.00% (14/100)\n",
            "Test loss: 3.344 | Test acc: 12.07% (1207/10000)\n",
            "\n",
            "Epoch: 1\n",
            "Train loss: 2.908 | Train acc: 38.00% (38/100)\n",
            "Test loss: 2.916 | Test acc: 32.06% (3206/10000)\n",
            "\n",
            "Epoch: 2\n",
            "Train loss: 1.435 | Train acc: 59.00% (59/100)\n",
            "Test loss: 1.950 | Test acc: 40.73% (4073/10000)\n",
            "\n",
            "Epoch: 3\n",
            "Train loss: 1.255 | Train acc: 67.00% (67/100)\n",
            "Test loss: 2.084 | Test acc: 37.05% (3705/10000)\n",
            "\n",
            "Epoch: 4\n",
            "Train loss: 0.677 | Train acc: 78.00% (78/100)\n",
            "Test loss: 1.787 | Test acc: 42.27% (4227/10000)\n",
            "\n",
            "Epoch: 5\n",
            "Train loss: 0.330 | Train acc: 93.00% (93/100)\n",
            "Test loss: 1.650 | Test acc: 48.43% (4843/10000)\n",
            "\n",
            "Epoch: 6\n",
            "Train loss: 0.315 | Train acc: 91.00% (91/100)\n",
            "Test loss: 1.739 | Test acc: 44.04% (4404/10000)\n",
            "\n",
            "Epoch: 7\n",
            "Train loss: 0.282 | Train acc: 92.00% (92/100)\n",
            "Test loss: 1.495 | Test acc: 51.33% (5133/10000)\n",
            "\n",
            "Epoch: 8\n",
            "Train loss: 0.300 | Train acc: 92.00% (92/100)\n",
            "Test loss: 2.097 | Test acc: 41.06% (4106/10000)\n",
            "\n",
            "Epoch: 9\n",
            "Train loss: 0.310 | Train acc: 89.00% (89/100)\n",
            "Test loss: 1.834 | Test acc: 46.03% (4603/10000)\n",
            "\n",
            "Epoch: 10\n",
            "Train loss: 0.203 | Train acc: 95.00% (95/100)\n",
            "Test loss: 1.737 | Test acc: 46.91% (4691/10000)\n",
            "\n",
            "Epoch: 11\n",
            "Train loss: 0.115 | Train acc: 98.00% (98/100)\n",
            "Test loss: 1.714 | Test acc: 48.74% (4874/10000)\n",
            "\n",
            "Epoch: 12\n",
            "Train loss: 0.113 | Train acc: 98.00% (98/100)\n",
            "Test loss: 1.709 | Test acc: 49.17% (4917/10000)\n",
            "\n",
            "Epoch: 13\n",
            "Train loss: 0.085 | Train acc: 100.00% (100/100)\n",
            "Test loss: 1.641 | Test acc: 49.09% (4909/10000)\n",
            "\n",
            "Epoch: 14\n",
            "Train loss: 0.094 | Train acc: 100.00% (100/100)\n",
            "Test loss: 1.733 | Test acc: 48.02% (4802/10000)\n"
          ],
          "name": "stdout"
        }
      ]
    },
    {
      "cell_type": "markdown",
      "metadata": {
        "id": "zz3MFGbHK1gQ"
      },
      "source": [
        "<font color='red'> We obtained the following result after training a pretrained ResNet-18 architecture on ImageNet, and fine-tuning its last layer, for $15$ epochs, with an Adam optimizer, a learning rate of $0.01$ and a batch size of $10$, on $X_{train}$ (which contains only 100 labeled data points):</font>\n",
        "\n",
        "| Model |  Number of  epochs | Train accuracy | Test accuracy |\n",
        "|-------|--------|-------------|--------------------------------------|\n",
        "|Pretrained ResNet-18 + fine-tuned last layer|$15$|$100\\%$ $(100/100)$|$48.02\\%$ $(4802/10000)$|\n",
        "\n",
        "<font color='red'>We resized images of CIFAR to match the dimension of images of ImageNet (224x224).</font>"
      ]
    },
    {
      "cell_type": "markdown",
      "metadata": {
        "id": "EKzBi-n1mapS"
      },
      "source": [
        "# Incorporating *a priori*\n",
        "Geometrical *a priori* are appealing for image classification tasks. For now, we only consider linear transformations $\\mathcal{T}$ of the inputs $x:\\mathbb{S}^2\\rightarrow\\mathbb{R}$ where $\\mathbb{S}$ is the support of an image, meaning that:\n",
        "\n",
        "$$\\forall u\\in\\mathbb{S}^2,\\mathcal{T}(\\lambda x+\\mu y)(u)=\\lambda \\mathcal{T}(x)(u)+\\mu \\mathcal{T}(y)(u)\\,.$$\n",
        "\n",
        "For instance if an image had an infinite support, a translation $\\mathcal{T}_a$ by $a$ would lead to:\n",
        "\n",
        "$$\\forall u, \\mathcal{T}_a(x)(u)=x(u-a)\\,.$$\n",
        "\n",
        "Otherwise, one has to handle several boundary effects.\n",
        "\n",
        "__Question 5 (1.5 points):__ Explain the issues when dealing with translations, rotations, scaling effects, color changes on $32\\times32$ images. Propose several ideas to tackle them."
      ]
    },
    {
      "cell_type": "markdown",
      "metadata": {
        "id": "lMcmzfqgmapS"
      },
      "source": [
        "<font color='red'>When working with translations, because the image in question is contained on a finished support, we can end up with edge effects that need to be taken into account.</font>\n",
        "\n",
        "- <font color='red'>For small transformations, edge effects mean that you have to manually add pixels on the side opposite the translation. For example, for a 32*32 image, if we translate to the right of 5 pixels, we need to fill the pixels on the left (padding). To do this, we can either use symmetry, uniform black or white padding or the average color of the image, random pixels, or an algorithm as a patch match, which fills the pixels by, looking for the closest patches in the image.You can then choose the padding algorithm according to the prior you have on the processed images.</font>\n",
        "\n",
        "\n",
        "- <font color='red'>For medium transformations, in addition to padding problems, we can end up with semantic problems. Indeed, in a dog picture, the whole picture does not uniformly contain the information of the dog's presence because maybe the dog is only on the right side of the picture. If we translate the image to the right, we can lose the dog entirely from the image and end up with the cat that was located on the left of the image. To solve this problem, you can use gradCam to check after training which area contains the most important information for the algorithm.</font>\n",
        "\n",
        "- <font color='red'>For large transformations, recognition becomes impossible: for example, for all right-side translations over 32 pixels for images with 32 pixels sides, the entire image is lost. This establishes an upper bound on the amount of data augmentation that can be added to the datasets for a given technique.</font>\n",
        "\n",
        "<font color='red'>Here are other examples of considerations for other types of transformations: </font>\n",
        "\n",
        "- <font color='red'>For example, for linear transformations: if we horizontally expand a car image, we must be careful that the label \"limousine\" is not in the labels considered.</font>\n",
        "- <font color='red'>Similarly, colors sometimes carry semantic information: if we build an application to help people consume seasonal fruits, the color of the fruit is important.</font>\n",
        "- <font color='red'>For rotations, for example in MNIST, one must be careful not to use 180 degrees rotations (and even 90 degrees! It is very deceitful) between 6 and 9.</font>\n",
        "\n",
        "<font color='red'>In conclusion, in a general way, it is necessary to take care that the transformations used are independent of the semantics of the classes that are present.</font>\n",
        "\n",
        "<font color='red'>However, if we are careful with these perturbations, and we add for example a gaussian noise to images, then it can improve the stability of the network, that will be less likely to directly overfit on the really small dataset that we had.</font>"
      ]
    },
    {
      "cell_type": "markdown",
      "metadata": {
        "id": "5ut5ZjgRmapT"
      },
      "source": [
        "## Data augmentations"
      ]
    },
    {
      "cell_type": "markdown",
      "metadata": {
        "id": "l2XefM0OmapT"
      },
      "source": [
        "__Question 6 (3 points):__ Propose a set of geometric transformation beyond translation, and incorporate them in your training pipeline. Train the model of the __Question 3__ with them and report the accuracies."
      ]
    },
    {
      "cell_type": "code",
      "metadata": {
        "collapsed": true,
        "id": "uMUHaMuNmapT",
        "colab": {
          "base_uri": "https://localhost:8080/"
        },
        "outputId": "c86ba168-26d3-4f2c-876e-9c5f8111a409"
      },
      "source": [
        "class GaussianNoise(object):\n",
        "    def __init__(self, std_max):\n",
        "        self.mean = 0\n",
        "        self.std = torch.rand(1) * std_max\n",
        "        \n",
        "    def __call__(self, tensor):\n",
        "        return tensor + torch.randn(tensor.size()) * self.std + self.mean\n",
        "    \n",
        "    def __repr__(self):\n",
        "        return self.__class__.__name__ + '(mean={0}, std={1})'.format(self.mean, self.std)\n",
        "\n",
        "\n",
        "transform_augm = transforms.Compose([transforms.RandomHorizontalFlip(p=0.5),\n",
        "                                     transforms.RandomCrop(32, padding=4),\n",
        "                                     transforms.RandomRotation(25),\n",
        "                                     transforms.ToTensor(),\n",
        "                                     transforms.Normalize((0.5, 0.5, 0.5), (0.5, 0.5, 0.5)),\n",
        "                                     GaussianNoise(0.5)])\n",
        "\n",
        "trainset_augm = torchvision.datasets.CIFAR10(root='./data', train=True,\n",
        "                                             download=True, transform=transform_augm)\n",
        "Xtrain_loader_augm = torch.utils.data.DataLoader(trainset_augm, batch_size=batch_size_small,\n",
        "                                                 shuffle=False, num_workers=2,\n",
        "                                                 sampler=torch.utils.data.sampler.SubsetRandomSampler([i for i in range(N_train)]))\n",
        "X_loader_augm = torch.utils.data.DataLoader(trainset_augm, batch_size=batch_size_big,\n",
        "                                            shuffle=False, num_workers=2,\n",
        "                                            sampler=torch.utils.data.sampler.SubsetRandomSampler([i for i in range(N_train, len(trainset))]))\n"
      ],
      "execution_count": 5,
      "outputs": [
        {
          "output_type": "stream",
          "text": [
            "Files already downloaded and verified\n"
          ],
          "name": "stdout"
        }
      ]
    },
    {
      "cell_type": "code",
      "metadata": {
        "colab": {
          "base_uri": "https://localhost:8080/"
        },
        "id": "PTJmS6i5fUWm",
        "outputId": "eaf4f602-35c0-4d8e-edc3-d7a77497df71"
      },
      "source": [
        "learning_rate = 0.01\n",
        "n_epochs = 40\n",
        "\n",
        "net_part_augm = ResNet18() # Network that will be trained on partial training data with data augmentation\n",
        "net_part_augm = net_part_augm.to(device)\n",
        "if device == 'cuda':\n",
        "    net_part_augm = torch.nn.DataParallel(net_part_augm)\n",
        "    cudnn.benchmark = True\n",
        "\n",
        "training(net_part_augm, Xtrain_loader_augm, Xtest_loader, n_epochs, learning_rate)"
      ],
      "execution_count": null,
      "outputs": [
        {
          "output_type": "stream",
          "text": [
            "\n",
            "Epoch: 0\n",
            "Train loss: 4.957 | Train acc: 8.00% (8/100)\n",
            "Test loss: 18919.740 | Test acc: 10.00% (1000/10000)\n",
            "\n",
            "Epoch: 1\n",
            "Train loss: 3.774 | Train acc: 13.00% (13/100)\n",
            "Test loss: 77.900 | Test acc: 15.10% (1510/10000)\n",
            "\n",
            "Epoch: 2\n",
            "Train loss: 3.094 | Train acc: 11.00% (11/100)\n",
            "Test loss: 7.478 | Test acc: 10.12% (1012/10000)\n",
            "\n",
            "Epoch: 3\n",
            "Train loss: 2.531 | Train acc: 12.00% (12/100)\n",
            "Test loss: 2.950 | Test acc: 14.53% (1453/10000)\n",
            "\n",
            "Epoch: 4\n",
            "Train loss: 2.307 | Train acc: 18.00% (18/100)\n",
            "Test loss: 2.584 | Test acc: 14.97% (1497/10000)\n",
            "\n",
            "Epoch: 5\n",
            "Train loss: 2.327 | Train acc: 14.00% (14/100)\n",
            "Test loss: 2.653 | Test acc: 16.42% (1642/10000)\n",
            "\n",
            "Epoch: 6\n",
            "Train loss: 2.108 | Train acc: 25.00% (25/100)\n",
            "Test loss: 2.955 | Test acc: 18.01% (1801/10000)\n",
            "\n",
            "Epoch: 7\n",
            "Train loss: 2.156 | Train acc: 14.00% (14/100)\n",
            "Test loss: 2.678 | Test acc: 18.19% (1819/10000)\n",
            "\n",
            "Epoch: 8\n",
            "Train loss: 2.086 | Train acc: 19.00% (19/100)\n",
            "Test loss: 2.777 | Test acc: 18.15% (1815/10000)\n",
            "\n",
            "Epoch: 9\n",
            "Train loss: 2.094 | Train acc: 20.00% (20/100)\n",
            "Test loss: 2.598 | Test acc: 16.43% (1643/10000)\n",
            "\n",
            "Epoch: 10\n",
            "Train loss: 1.992 | Train acc: 23.00% (23/100)\n",
            "Test loss: 2.468 | Test acc: 16.99% (1699/10000)\n",
            "\n",
            "Epoch: 11\n",
            "Train loss: 1.955 | Train acc: 28.00% (28/100)\n",
            "Test loss: 3.258 | Test acc: 21.27% (2127/10000)\n",
            "\n",
            "Epoch: 12\n",
            "Train loss: 1.950 | Train acc: 32.00% (32/100)\n",
            "Test loss: 2.808 | Test acc: 19.30% (1930/10000)\n",
            "\n",
            "Epoch: 13\n",
            "Train loss: 2.106 | Train acc: 27.00% (27/100)\n",
            "Test loss: 2.657 | Test acc: 18.70% (1870/10000)\n",
            "\n",
            "Epoch: 14\n",
            "Train loss: 1.990 | Train acc: 27.00% (27/100)\n",
            "Test loss: 2.718 | Test acc: 15.22% (1522/10000)\n",
            "\n",
            "Epoch: 15\n",
            "Train loss: 2.021 | Train acc: 23.00% (23/100)\n",
            "Test loss: 2.390 | Test acc: 15.97% (1597/10000)\n",
            "\n",
            "Epoch: 16\n",
            "Train loss: 1.934 | Train acc: 36.00% (36/100)\n",
            "Test loss: 2.681 | Test acc: 22.19% (2219/10000)\n",
            "\n",
            "Epoch: 17\n",
            "Train loss: 1.801 | Train acc: 38.00% (38/100)\n",
            "Test loss: 2.390 | Test acc: 22.13% (2213/10000)\n",
            "\n",
            "Epoch: 18\n",
            "Train loss: 1.843 | Train acc: 30.00% (30/100)\n",
            "Test loss: 2.380 | Test acc: 22.63% (2263/10000)\n",
            "\n",
            "Epoch: 19\n",
            "Train loss: 1.871 | Train acc: 36.00% (36/100)\n",
            "Test loss: 2.400 | Test acc: 22.42% (2242/10000)\n",
            "\n",
            "Epoch: 20\n",
            "Train loss: 1.878 | Train acc: 36.00% (36/100)\n",
            "Test loss: 2.491 | Test acc: 21.49% (2149/10000)\n",
            "\n",
            "Epoch: 21\n",
            "Train loss: 1.793 | Train acc: 33.00% (33/100)\n",
            "Test loss: 2.798 | Test acc: 24.43% (2443/10000)\n",
            "\n",
            "Epoch: 22\n",
            "Train loss: 1.737 | Train acc: 34.00% (34/100)\n",
            "Test loss: 3.499 | Test acc: 22.13% (2213/10000)\n",
            "\n",
            "Epoch: 23\n",
            "Train loss: 1.740 | Train acc: 40.00% (40/100)\n",
            "Test loss: 2.996 | Test acc: 22.54% (2254/10000)\n",
            "\n",
            "Epoch: 24\n",
            "Train loss: 1.766 | Train acc: 34.00% (34/100)\n",
            "Test loss: 2.982 | Test acc: 20.60% (2060/10000)\n",
            "\n",
            "Epoch: 25\n",
            "Train loss: 1.834 | Train acc: 28.00% (28/100)\n",
            "Test loss: 3.512 | Test acc: 19.96% (1996/10000)\n",
            "\n",
            "Epoch: 26\n",
            "Train loss: 1.858 | Train acc: 35.00% (35/100)\n",
            "Test loss: 3.119 | Test acc: 20.71% (2071/10000)\n",
            "\n",
            "Epoch: 27\n",
            "Train loss: 1.670 | Train acc: 43.00% (43/100)\n",
            "Test loss: 2.463 | Test acc: 21.03% (2103/10000)\n",
            "\n",
            "Epoch: 28\n",
            "Train loss: 1.736 | Train acc: 35.00% (35/100)\n",
            "Test loss: 2.797 | Test acc: 23.05% (2305/10000)\n",
            "\n",
            "Epoch: 29\n",
            "Train loss: 1.729 | Train acc: 35.00% (35/100)\n",
            "Test loss: 2.835 | Test acc: 23.42% (2342/10000)\n",
            "\n",
            "Epoch: 30\n",
            "Train loss: 1.757 | Train acc: 40.00% (40/100)\n",
            "Test loss: 3.242 | Test acc: 21.60% (2160/10000)\n",
            "\n",
            "Epoch: 31\n",
            "Train loss: 1.719 | Train acc: 38.00% (38/100)\n",
            "Test loss: 2.628 | Test acc: 20.14% (2014/10000)\n",
            "\n",
            "Epoch: 32\n",
            "Train loss: 1.774 | Train acc: 36.00% (36/100)\n",
            "Test loss: 2.340 | Test acc: 22.12% (2212/10000)\n",
            "\n",
            "Epoch: 33\n",
            "Train loss: 1.744 | Train acc: 39.00% (39/100)\n",
            "Test loss: 2.626 | Test acc: 22.88% (2288/10000)\n",
            "\n",
            "Epoch: 34\n",
            "Train loss: 1.555 | Train acc: 47.00% (47/100)\n",
            "Test loss: 2.676 | Test acc: 21.48% (2148/10000)\n",
            "\n",
            "Epoch: 35\n",
            "Train loss: 1.690 | Train acc: 36.00% (36/100)\n",
            "Test loss: 2.813 | Test acc: 24.22% (2422/10000)\n",
            "\n",
            "Epoch: 36\n",
            "Train loss: 1.583 | Train acc: 38.00% (38/100)\n",
            "Test loss: 2.914 | Test acc: 22.07% (2207/10000)\n",
            "\n",
            "Epoch: 37\n",
            "Train loss: 1.502 | Train acc: 40.00% (40/100)\n",
            "Test loss: 2.556 | Test acc: 21.10% (2110/10000)\n",
            "\n",
            "Epoch: 38\n",
            "Train loss: 1.732 | Train acc: 35.00% (35/100)\n",
            "Test loss: 3.205 | Test acc: 22.10% (2210/10000)\n",
            "\n",
            "Epoch: 39\n",
            "Train loss: 1.556 | Train acc: 44.00% (44/100)\n",
            "Test loss: 2.786 | Test acc: 23.37% (2337/10000)\n"
          ],
          "name": "stdout"
        }
      ]
    },
    {
      "cell_type": "markdown",
      "metadata": {
        "id": "hWSKKTiLjDmC"
      },
      "source": [
        "<font color='red'>The data augmentation techniques that we used are the following (they are done not directly on the training set, but after taking a batch during the training): a random horizontal flip with probability $0.5$, a random crop of the same size of the image that we augmented with a padding of $4$, a random rotation of between -25 and 25 degrees, a gaussian noise with mean 0 and with standard deviation a random number taken uniformly between $0$ and $0.5$.</font>\n",
        "\n",
        "<font color='red'> After training the ResNet-18 architecture of the Question 3, we obtained the following result after $40$ epochs, with an Adam optimizer, a learning rate of $0.01$ and a batch size of $10$, on $X_{train}$ (which contains only 100 labeled data points):</font>\n",
        "\n",
        "| Model |  Number of  epochs | Train accuracy | Test accuracy |\n",
        "|-------|--------|-------------|--------------------------------------|\n",
        "|ResNet-18 trained on $X_{train}$ + data augmentation|$40$|$44\\%$ $(44/100)$|$23.37\\%$ $(2337/10000)$|\n",
        "\n",
        "<font color='red'>It is indeed a bit better than what we obtained without data augmentation.</font>"
      ]
    },
    {
      "cell_type": "markdown",
      "metadata": {
        "id": "nyDGj_M4mapU"
      },
      "source": [
        "# Conclusions"
      ]
    },
    {
      "cell_type": "markdown",
      "metadata": {
        "id": "1vFQn2ESmapU"
      },
      "source": [
        "__Question 7 (5 points):__ Write a short report explaining the pros and the cons of each methods that you implemented. 25% of the grade of this project will correspond to this question, thus, it should be done carefully. In particular, please add a plot that will summarize all your numerical results."
      ]
    },
    {
      "cell_type": "code",
      "metadata": {
        "colab": {
          "base_uri": "https://localhost:8080/",
          "height": 295
        },
        "id": "dbIYBNuvntKY",
        "outputId": "115c1397-cb99-4495-84bf-dd099ec6144a"
      },
      "source": [
        "ResNet18_Xtrain = [9.01, 16.05, 15.43, 17.30, 17.05, 18.49, 16.49, 16.80, 18.31, 18.88, 17.72, 19.50, 18.70, 17.99, 17.90, 18.26, 20.58, 21.03, 18.37, 20.93, 21.48, 19.78, 20.60, 19.66, 21.65] + [21.65 for i in range(15)]\n",
        "\n",
        "ResNet18_pretrained = [12.07, 32.06, 40.73, 37.05, 42.27, 48.43, 44.04, 51.33, 41.06, 46.03, 46.91, 48.74, 49.17, 49.09, 48.02] + [48.02 for i in range(25)]\n",
        "\n",
        "ResNet18_Xtrain_augmented = [10, 15.10, 10.12, 14.53, 14.97, 16.42, 18.01, 18.19, 18.15, 16.43, 16.99, 21.27, 19.30, 18.70, 15.22, 15.97, 22.19, 22.13, 22.63, 22.42, 21.49, 24.43, 22.13, 22.54, 20.60, 19.96, 20.71, 21.03, 23.05, 23.42, 21.60, 20.14, 22.12, 22.88, 21.48, 24.22, 22.07, 21.10, 22.10, 23.37]\n",
        "\n",
        "plt.plot([i for i in range(1, 41)], ResNet18_Xtrain_augmented, label='ResNet18_Xtrain_augmented')\n",
        "plt.plot([i for i in range(1, 41)], ResNet18_Xtrain, label='ResNet18_Xtrain')\n",
        "plt.plot([i for i in range(1, 41)], ResNet18_pretrained, label='ResNet18_pretrained')\n",
        "plt.title('Performances of different pipelines over epochs')\n",
        "plt.ylabel('Test accuracy (in %)')\n",
        "plt.xlabel('Epoch')\n",
        "plt.legend()\n",
        "plt.show()\n"
      ],
      "execution_count": null,
      "outputs": [
        {
          "output_type": "display_data",
          "data": {
            "image/png": "[encoded data removed]",
            "text/plain": [
              "<Figure size 432x288 with 1 Axes>"
            ]
          },
          "metadata": {
            "tags": [],
            "needs_background": "light"
          }
        }
      ]
    },
    {
      "cell_type": "markdown",
      "metadata": {
        "id": "q3FXU5QdmapV"
      },
      "source": [
        "<font color='red'>Here is a summary of what we obtained with the different pipelines:</font>\n",
        "\n",
        "| Model |  Number of  epochs | Train accuracy | Test accuracy |\n",
        "|-------|--------|-------------|--------------------------------------|\n",
        "|ResNet-18 trained on $X_{train}$|$25$|$63\\%$ $(63/100)$|$21.65\\%$ $(2165/10000)$|\n",
        "|ResNet-18 trained on $X_{train}$ + data augmentation|$40$|$44\\%$ $(44/100)$|$23.37\\%$ $(2337/10000)$|\n",
        "|Pretrained ResNet-18 + fine-tuned last layer|$15$|$100\\%$ $(100/100)$|$48.02\\%$ $(4802/10000)$|\n",
        "\n",
        "<font color='red'>**Regarding the first method, which is training a model from scratch with the small dataset available:**</font>\n",
        "\n",
        "<font color='red'>The pros are that we do not have to have access to the weights of a pretrained model (some are publicly available, but some are not), and we don't have to design a data augmentation technique. This technique is the simplest to implement in practice.</font>\n",
        "\n",
        "<font color='red'>However, there are cons. First, since the dataset is really small, the network will learn perfectly or almost perfectly to label the training data after few epochs, and hence the gradient becomes smaller and smaller and the network stops to learn. You are really dependent on the small training data you have, and it can be bad if you have in this dataset a sort of outlier for a certain class that is over-represented.</font>\n",
        "\n",
        "<font color='red'>**Regarding the second method, which is training a model from scratch with the small dataset available and a data augmentation technique:**</font>\n",
        "\n",
        "<font color='red'>One advantage is that the network will be more robust against small transformations in an image. Studies found that adding a very small noise to an image because feeding it to a network can lead to a completely different predicted label, while the transformation is imperceptible for a human. Therefore, we would like to be robust against this to be more performant on new data. The network will also not directly overfit on the training examples, because since transformations are random, we typically have different images all the time during the training. Data augmentation can also be used to remove a bias in a dataset. For example, there is a law in the US that states that soap dispenser should be as accurate as detecting white hands as for any other hand color. Data augmentation is a practical way to adjust the dataset for minorities.</font>\n",
        "\n",
        "<font color='red'>A drawback is that you have to choose the right transformations for you dataset in your data augmentation techniques, or results can become worse. For example, if you rotate images randomly at 180 degrees, then the network will not be able to distinguish between a 6 and a 9. Another drawback is that the training will be typically longer because it will be harder for the network to overfit on the training data. The training is also likely to have more variance since a random transformation will be applied to each batch during the training, and the gradient computed at each step will of course depend on this random transformations.</font>\n",
        "\n",
        "<font color='red'>**Regarding the third method, which is fine-tuning the last layer of a model pretrained on another task:**</font>\n",
        "\n",
        "<font color='red'>One advantage is that the network has seen before (during the training of the original task) many more images than what we have in our dataset. Therefore, it is already able to detect features in an image like shapes, edges, colors, etc..., and all of this knowledge will be useful for our similar task. It is in practice really useful to use a pretrained model and performances are usually much higher. It is especially used either when we have a small training set, or when we don't have the computational power to train a full network.</font>\n",
        "\n",
        "<font color='red'>A drawback is that the deeper we go in the network, the more specific to the original task the features will be. Therefore, it might capture features that are really useful for the previous task but not for ours, and fail to capture features important for our task if we re-train only the last layer. Moreover, if we had access to a huge number of data for our task, and an important computational power, and the previous task is not exactly the same as ours, it would be better to re-train the full model from scratch to our task, since the pre-trained model is likely to end up quickly in a local minimum, and in the end performs worse than the model trained from scratch.</font>"
      ]
    },
    {
      "cell_type": "markdown",
      "metadata": {
        "id": "gJ0_iKnbmapV"
      },
      "source": [
        "# Weak supervision"
      ]
    },
    {
      "cell_type": "markdown",
      "metadata": {
        "id": "q6q2l2xTmapV"
      },
      "source": [
        "__Bonus \\[open\\] question (up to 3 points):__ Pick a weakly supervised method that will potentially use $\\mathcal{X}\\cup\\mathcal{X}_{\\text{train}}$ to train a representation (a subset of $\\mathcal{X}$ is also fine). Evaluate it and report the accuracies. You should be careful in the choice of your method, in order to avoid heavy computational effort."
      ]
    },
    {
      "cell_type": "code",
      "metadata": {
        "colab": {
          "base_uri": "https://localhost:8080/"
        },
        "id": "FW_c_X7iSWzL",
        "outputId": "92920f0c-4f87-4eeb-adc4-a7a681832b08"
      },
      "source": [
        "transform = transforms.Compose([transforms.ToTensor(),\n",
        "                                transforms.Normalize((0.5, 0.5, 0.5), (0.5, 0.5, 0.5))])\n",
        "\n",
        "transform_weak_augm = transforms.Compose([transforms.RandomHorizontalFlip(p=0.5),\n",
        "                                     transforms.RandomCrop(32, padding=4),\n",
        "                                     transforms.ToTensor(),\n",
        "                                     transforms.Normalize((0.5, 0.5, 0.5), (0.5, 0.5, 0.5))])\n",
        "\n",
        "transform_strong_augm = transforms.Compose([transforms.RandomHorizontalFlip(p=0.5),\n",
        "                                     transforms.RandomCrop(32, padding=4),\n",
        "                                     transforms.RandomRotation(40),\n",
        "                                     #transforms.ColorJitter(brightness=(0.2, 2), contrast=(0.2, 2), saturation=(0.2, 2), hue=(-0.3, 0.3)),\n",
        "                                     transforms.ToTensor(),\n",
        "                                     transforms.Normalize((0.5, 0.5, 0.5), (0.5, 0.5, 0.5))])\n",
        "                                     GaussianNoise(2)])\n",
        "\n",
        "trainset = torchvision.datasets.CIFAR10(root='./data', train=True,\n",
        "                                        download=True, transform=transform)\n",
        "Xtrain_loader = torch.utils.data.DataLoader(trainset, batch_size=batch_size_small,\n",
        "                                          shuffle=False, num_workers=2,\n",
        "                                          sampler=torch.utils.data.sampler.SubsetRandomSampler([i for i in range(N_train)]))\n",
        "\n",
        "trainset_weak_augm = torchvision.datasets.CIFAR10(root='./data', train=True,\n",
        "                                                  download=True, transform=transform_weak_augm)\n",
        "X_loader = torch.utils.data.DataLoader(trainset_weak_augm, batch_size=batch_size_big,\n",
        "                                       shuffle=False, num_workers=2)\n",
        "\n",
        "\n",
        "trainset_strong_augm = torchvision.datasets.CIFAR10(root='./data', train=True,\n",
        "                                                    download=True, transform=transform_strong_augm)\n",
        "X_loader_augm = torch.utils.data.DataLoader(trainset_strong_augm, batch_size=batch_size_big,\n",
        "                                            shuffle=False, num_workers=2)\n",
        "\n",
        "\n",
        "testset = torchvision.datasets.CIFAR10(root='./data', train=False,\n",
        "                                       download=True, transform=transform)\n",
        "Xtest_loader = torch.utils.data.DataLoader(testset, batch_size=batch_size_big,\n",
        "                                           shuffle=False, num_workers=2)\n",
        "\n"
      ],
      "execution_count": 38,
      "outputs": [
        {
          "output_type": "stream",
          "text": [
            "Files already downloaded and verified\n",
            "Files already downloaded and verified\n",
            "Files already downloaded and verified\n",
            "Files already downloaded and verified\n"
          ],
          "name": "stdout"
        }
      ]
    },
    {
      "cell_type": "code",
      "metadata": {
        "id": "OMFWGwSlpOtl"
      },
      "source": [
        "from itertools import cycle\n",
        "def training_SSL(net, trainloader_clean_labeled, trainloader_clean_unlabeled, trainloader_unclean_unlabeled, testloader, lambda_un, thr_select, n_epoch, learning_rate):\n",
        "    criterion = nn.CrossEntropyLoss()\n",
        "    optimizer = optim.SGD(net.parameters(), lr=learning_rate, momentum=0.9)\n",
        "    scheduler = torch.optim.lr_scheduler.CosineAnnealingLR(optimizer, T_max=200)\n",
        "    \n",
        "    for epoch in range(n_epochs):\n",
        "        print('\\nEpoch: %d' % epoch)\n",
        "        net.train()\n",
        "        supervised_train_loss = 0\n",
        "        unsupervised_train_loss = 0\n",
        "        correct = 0\n",
        "        total = 0\n",
        "        for batch_idx, ((inputs, targets_supervised), (inputs_clean, targets), (inputs_unclean, _)) in enumerate(zip(cycle(trainloader_clean_labeled),\n",
        "                                                                                                                     trainloader_clean_unlabeled,\n",
        "                                                                                                                     trainloader_unclean_unlabeled)):\n",
        "            \n",
        "            optimizer.zero_grad()\n",
        "\n",
        "            inputs, targets_supervised = inputs.to(device), targets_supervised.to(device)\n",
        "            outputs = net(inputs)\n",
        "            loss = criterion(outputs, targets_supervised)\n",
        "\n",
        "            inputs_clean, inputs_unclean, targets = inputs_clean.to(device), inputs_unclean.to(device), targets.to(device)\n",
        "            outputs_clean = net(inputs_clean)\n",
        "            outputs_unclean = net(inputs_unclean)\n",
        "\n",
        "            softmax = torch.softmax(outputs_clean, dim=1)\n",
        "            max_elements, max_indices = torch.max(softmax, dim=1)\n",
        "            indices = torch.squeeze((max_elements > thr_select).nonzero())\n",
        "            outputs_unclean = outputs_unclean[indices]\n",
        "            max_indices = max_indices[indices]\n",
        "\n",
        "            if max_indices.dim() > 0:\n",
        "                if not np.isnan((lambda_un * criterion(outputs_unclean, max_indices)).item()):\n",
        "                    supervised_train_loss += loss.item()\n",
        "                    unsupervised_train_loss += (lambda_un * criterion(outputs_unclean, max_indices)).item()\n",
        "                    loss += lambda_un * criterion(outputs_unclean, max_indices)\n",
        "\n",
        "            if not np.isnan(loss.item()):\n",
        "                loss.backward()\n",
        "                optimizer.step()\n",
        "\n",
        "            _, predicted = outputs.max(1)\n",
        "            total += targets_supervised.size(0)\n",
        "            correct += predicted.eq(targets_supervised).sum().item()\n",
        "\n",
        "        print('Supervised train loss: %.3f | Unsupervised train loss: %.3f | Train acc: %.2f%% (%d/%d)'\n",
        "              % (supervised_train_loss, unsupervised_train_loss, 100.*correct/total, correct, total))\n",
        "        \n",
        "        net.eval()\n",
        "        test_loss = 0\n",
        "        correct_test = 0\n",
        "        total_test = 0\n",
        "        with torch.no_grad():\n",
        "            for batch_idx, (inputs, targets) in enumerate(testloader):\n",
        "                inputs, targets = inputs.to(device), targets.to(device)\n",
        "                outputs = net(inputs)\n",
        "                loss = criterion(outputs, targets)\n",
        "\n",
        "                test_loss += loss.item()\n",
        "                _, predicted = outputs.max(1)\n",
        "                total_test += targets.size(0)\n",
        "                correct_test += predicted.eq(targets).sum().item()\n",
        "\n",
        "        print('Test acc: %.2f%% (%d/%d)'\n",
        "              % (100.*correct_test/total_test, correct_test, total_test))\n",
        "        \n",
        "        scheduler.step()"
      ],
      "execution_count": 28,
      "outputs": []
    },
    {
      "cell_type": "code",
      "metadata": {
        "colab": {
          "base_uri": "https://localhost:8080/"
        },
        "id": "Vj3aQbN-ZUPC",
        "outputId": "f90120fc-15d3-4681-8455-66b4ff032819"
      },
      "source": [
        "lambda_un = 1\n",
        "thr_select = 0.95\n",
        "learning_rate = 0.03\n",
        "n_epochs = 20\n",
        "\n",
        "resnet18 = ResNet18()\n",
        "resnet18 = resnet18.to(device)\n",
        "if device == 'cuda':\n",
        "    resnet18 = torch.nn.DataParallel(resnet18)\n",
        "    cudnn.benchmark = True\n",
        "\n",
        "training_SSL(resnet18, Xtrain_loader, X_loader, X_loader_augm, Xtest_loader, lambda_un, thr_select, n_epochs, learning_rate)"
      ],
      "execution_count": 29,
      "outputs": [
        {
          "output_type": "stream",
          "text": [
            "\n",
            "Epoch: 0\n",
            "Supervised train loss: 457.100 | Unsupervised train loss: 142.338 | Train acc: 60.54% (2367/3910)\n",
            "Test acc: 21.12% (2112/10000)\n",
            "\n",
            "Epoch: 1\n",
            "Supervised train loss: 80.418 | Unsupervised train loss: 209.022 | Train acc: 93.66% (3662/3910)\n",
            "Test acc: 20.30% (2030/10000)\n",
            "\n",
            "Epoch: 2\n",
            "Supervised train loss: 47.937 | Unsupervised train loss: 184.787 | Train acc: 96.57% (3776/3910)\n",
            "Test acc: 19.72% (1972/10000)\n",
            "\n",
            "Epoch: 3\n",
            "Supervised train loss: 26.556 | Unsupervised train loss: 181.076 | Train acc: 98.08% (3835/3910)\n",
            "Test acc: 18.05% (1805/10000)\n",
            "\n",
            "Epoch: 4\n",
            "Supervised train loss: 18.602 | Unsupervised train loss: 173.867 | Train acc: 98.54% (3853/3910)\n",
            "Test acc: 18.53% (1853/10000)\n",
            "\n",
            "Epoch: 5\n",
            "Supervised train loss: 9.835 | Unsupervised train loss: 181.862 | Train acc: 99.34% (3884/3910)\n",
            "Test acc: 18.92% (1892/10000)\n",
            "\n",
            "Epoch: 6\n",
            "Supervised train loss: 7.805 | Unsupervised train loss: 177.228 | Train acc: 99.51% (3891/3910)\n",
            "Test acc: 19.35% (1935/10000)\n",
            "\n",
            "Epoch: 7\n",
            "Supervised train loss: 11.157 | Unsupervised train loss: 182.063 | Train acc: 99.18% (3878/3910)\n",
            "Test acc: 17.05% (1705/10000)\n",
            "\n",
            "Epoch: 8\n",
            "Supervised train loss: 11.561 | Unsupervised train loss: 191.334 | Train acc: 99.26% (3881/3910)\n",
            "Test acc: 22.53% (2253/10000)\n",
            "\n",
            "Epoch: 9\n",
            "Supervised train loss: 6.848 | Unsupervised train loss: 177.298 | Train acc: 99.59% (3894/3910)\n",
            "Test acc: 20.57% (2057/10000)\n",
            "\n",
            "Epoch: 10\n",
            "Supervised train loss: 4.862 | Unsupervised train loss: 178.810 | Train acc: 99.77% (3901/3910)\n",
            "Test acc: 22.84% (2284/10000)\n",
            "\n",
            "Epoch: 11\n",
            "Supervised train loss: 10.128 | Unsupervised train loss: 192.795 | Train acc: 99.44% (3888/3910)\n",
            "Test acc: 20.08% (2008/10000)\n",
            "\n",
            "Epoch: 12\n",
            "Supervised train loss: 6.670 | Unsupervised train loss: 192.691 | Train acc: 99.57% (3893/3910)\n",
            "Test acc: 21.14% (2114/10000)\n",
            "\n",
            "Epoch: 13\n",
            "Supervised train loss: 2.425 | Unsupervised train loss: 199.741 | Train acc: 99.85% (3904/3910)\n",
            "Test acc: 23.42% (2342/10000)\n",
            "\n",
            "Epoch: 14\n",
            "Supervised train loss: 11.590 | Unsupervised train loss: 198.410 | Train acc: 99.39% (3886/3910)\n",
            "Test acc: 22.05% (2205/10000)\n",
            "\n",
            "Epoch: 15\n",
            "Supervised train loss: 3.744 | Unsupervised train loss: 217.972 | Train acc: 99.74% (3900/3910)\n",
            "Test acc: 22.47% (2247/10000)\n",
            "\n",
            "Epoch: 16\n",
            "Supervised train loss: 3.455 | Unsupervised train loss: 219.051 | Train acc: 99.82% (3903/3910)\n",
            "Test acc: 23.72% (2372/10000)\n",
            "\n",
            "Epoch: 17\n",
            "Supervised train loss: 2.316 | Unsupervised train loss: 242.299 | Train acc: 99.85% (3904/3910)\n",
            "Test acc: 22.82% (2282/10000)\n",
            "\n",
            "Epoch: 18\n",
            "Supervised train loss: 1.359 | Unsupervised train loss: 232.450 | Train acc: 99.95% (3908/3910)\n",
            "Test acc: 20.04% (2004/10000)\n",
            "\n",
            "Epoch: 19\n",
            "Supervised train loss: 4.723 | Unsupervised train loss: 223.502 | Train acc: 99.69% (3898/3910)\n",
            "Test acc: 24.43% (2443/10000)\n"
          ],
          "name": "stdout"
        }
      ]
    },
    {
      "cell_type": "markdown",
      "metadata": {
        "id": "s7YLebI6DlKj"
      },
      "source": [
        "<font color='red'>In the previous cells, we tried to implement the [FixMatch](https://arxiv.org/pdf/2001.07685.pdf) algorithm, which is apparently the state of the art method for semi-supervised learning on CIFAR-10.</font>\n",
        "\n",
        "<font color='red'>In this algorithm, we design two sets of transforms, ones that are weak, and the others that are strong. The network is trained such that it classifies well the labeled data (supervised loss), and such that the predictions on strong augmented data are similar to predictions on weak augmented data when the network is confident on the weak ones (unsupervised loss).</font>\n",
        "\n",
        "<font color='red'>As stated in the paper, this heavily depends on the hyperparameters and the transformations we make. Here, we haven't put all the transformations used in the original paper (there are a lot) and we didn't have time to play a lot with the hyperparameters. We achieved a $24.43\\%$ accuracy on the test set for $20$ epochs, and it might go higher for more epochs. This is much less than what they obtained in the original paper (we don't know for how many epochs they trained it), and we think this is  mostly because of the transformation choices (for example, adding one wrong transformation can ruin completely the results). However, we still achieved an increase in the accuracy of the test set of about $3\\%$ compared to a fully supervised training.</font>"
      ]
    }
  ]
}