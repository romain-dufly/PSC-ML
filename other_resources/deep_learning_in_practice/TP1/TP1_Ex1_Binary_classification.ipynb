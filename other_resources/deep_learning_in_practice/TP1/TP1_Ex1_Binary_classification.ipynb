{
 "cells": [
  {
   "cell_type": "markdown",
   "metadata": {},
   "source": [
    "## Binary classification problem"
   ]
  },
  {
   "cell_type": "markdown",
   "metadata": {},
   "source": [
    "### Dataset :"
   ]
  },
  {
   "cell_type": "markdown",
   "metadata": {},
   "source": [
    "We study first a binary classification problem, performed by a neural network. Each input has two real features, and the output can be only 0 or 1. The training set contains 4000 examples, and the validation set, 1000."
   ]
  },
  {
   "cell_type": "code",
   "execution_count": 1,
   "metadata": {},
   "outputs": [
    {
     "name": "stderr",
     "output_type": "stream",
     "text": [
      "/Users/raph/opt/anaconda3/envs/mlab/lib/python3.9/site-packages/tqdm/auto.py:22: TqdmWarning: IProgress not found. Please update jupyter and ipywidgets. See https://ipywidgets.readthedocs.io/en/stable/user_install.html\n",
      "  from .autonotebook import tqdm as notebook_tqdm\n"
     ]
    }
   ],
   "source": [
    "import matplotlib.pyplot as plt\n",
    "import numpy as np\n",
    "import torch\n",
    "\n",
    "# Display figures on jupyter notebook\n",
    "%matplotlib inline"
   ]
  },
  {
   "cell_type": "code",
   "execution_count": 2,
   "metadata": {},
   "outputs": [],
   "source": [
    "# Define a function to generate the dataset, in the form of two interlaced spirals\n",
    "def spiral(phi):\n",
    "    x = (phi+1)*torch.cos(phi)\n",
    "    y = phi*torch.sin(phi)\n",
    "    return torch.cat((x, y), dim=1)\n",
    "\n",
    "def generate_data(num_data):\n",
    "    angles = torch.empty((num_data, 1)).uniform_(1, 15)\n",
    "    data = spiral(angles)\n",
    "    # add some noise to the data\n",
    "    data += torch.empty((num_data, 2)).normal_(0.0, 0.4)\n",
    "    labels = torch.zeros((num_data,), dtype=torch.int)\n",
    "    # flip half of the points to create two classes\n",
    "    data[num_data//2:,:] *= -1\n",
    "    labels[num_data//2:] = 1\n",
    "    return data, labels"
   ]
  },
  {
   "cell_type": "code",
   "execution_count": 3,
   "metadata": {},
   "outputs": [
    {
     "data": {
      "text/plain": [
       "torch.Size([4000, 2])"
      ]
     },
     "execution_count": 3,
     "metadata": {},
     "output_type": "execute_result"
    }
   ],
   "source": [
    "# Generate the training set with 4000 examples by function generate_data\n",
    "\n",
    "X_train, y_train = generate_data(4000)\n",
    "X_train.size()"
   ]
  },
  {
   "cell_type": "code",
   "execution_count": 4,
   "metadata": {},
   "outputs": [],
   "source": [
    "# Define the vis_data function to visualize the dataset\n",
    "def vis_data(X, y):\n",
    "    plt.figure(figsize=(5, 5))\n",
    "    plt.plot(X[y==1, 0], X[y==1, 1], 'r+') #Examples are represented as red plusses for label 1\n",
    "    plt.plot(X[y==0, 0], X[y==0, 1], 'b+') #Examples are represented as blue plusses for label 0 "
   ]
  },
  {
   "cell_type": "markdown",
   "metadata": {},
   "source": [
    "We can now invoke the `vis_data` function on the dataset previously generated to see what it looks like:"
   ]
  },
  {
   "cell_type": "code",
   "execution_count": 5,
   "metadata": {},
   "outputs": [
    {
     "data": {
      "image/png": "[encoded data removed]",
      "text/plain": [
       "<Figure size 360x360 with 1 Axes>"
      ]
     },
     "metadata": {
      "needs_background": "light"
     },
     "output_type": "display_data"
    }
   ],
   "source": [
    "vis_data(X_train, y_train) # visualize training set"
   ]
  },
  {
   "cell_type": "markdown",
   "metadata": {},
   "source": [
    "We use the `TensorDataset` wrapper from pytorch, so that the framework can easily understand our tensors as a proper dataset."
   ]
  },
  {
   "cell_type": "code",
   "execution_count": 6,
   "metadata": {},
   "outputs": [],
   "source": [
    "from torch.utils.data import TensorDataset, DataLoader\n",
    "training_set = TensorDataset(X_train, y_train)"
   ]
  },
  {
   "cell_type": "markdown",
   "metadata": {},
   "source": [
    "###  Training the model with a neural network"
   ]
  },
  {
   "cell_type": "markdown",
   "metadata": {},
   "source": [
    "Here is a skeleton of a neural network with a single layer (thus: a linear classifier). This is the model you'll work on to improve it during this exercise.\n",
    "\n",
    "Look at the code and run it to see the structure, then follow the questions below to iteratively improve the model."
   ]
  },
  {
   "cell_type": "code",
   "execution_count": 7,
   "metadata": {},
   "outputs": [],
   "source": [
    "import torch.nn as nn\n",
    "import torch.nn.functional as F"
   ]
  },
  {
   "cell_type": "markdown",
   "metadata": {},
   "source": [
    "At the first step, we define a neural network with just two layers. A useful tutorial for constructing model can be found [here](https://pytorch.org/tutorials/beginner/blitz/neural_networks_tutorial.html#sphx-glr-beginner-blitz-neural-networks-tutorial-py)."
   ]
  },
  {
   "cell_type": "code",
   "execution_count": 26,
   "metadata": {},
   "outputs": [],
   "source": [
    "from typing_extensions import Literal\n",
    "\n",
    "# Basic network structure with a single layer\n",
    "class Model(nn.Module):\n",
    "    \n",
    "    def __init__(self, layers=[2, 10,1], non_linearity : Literal[\"relu\", \"sigmoid\", \"tanh\"] = \"relu\"):\n",
    "        super(Model, self).__init__()\n",
    "        # A single linear layer\n",
    "        # The model has 2 inputs (the coordinates of the point) and an output (the prediction)\n",
    "        sequence = [nn.Linear(layers[i-1], layers[i]) for i in range(1, len(layers))]\n",
    "        non_lin = nn.ReLU() if non_linearity == \"relu\" else nn.Sigmoid()\n",
    "        non_lin  = nn.Tanh() if non_linearity == \"tanh\" else non_lin\n",
    "        sequence_with_non_lin = []\n",
    "        for lin in sequence :\n",
    "            sequence_with_non_lin.append(lin)\n",
    "            sequence_with_non_lin.append(non_lin)\n",
    "\n",
    "        self.seq = nn.Sequential(\n",
    "            *sequence_with_non_lin[:-1]\n",
    "        )\n",
    "     \n",
    "        \n",
    "    def forward(self, inputs):\n",
    "        # We want the model to predict 0 for one class and 1 for the other class\n",
    "        # A Sigmoid activation function seems appropriate\n",
    "        h = self.seq(inputs)\n",
    "        outputs = torch.sigmoid(h)\n",
    "        \n",
    "        return outputs"
   ]
  },
  {
   "cell_type": "code",
   "execution_count": 27,
   "metadata": {},
   "outputs": [],
   "source": [
    "# Create the model: \n",
    "model = Model()\n",
    "\n",
    "# Choose the hyperparameters for training: \n",
    "num_epochs = 10\n",
    "batch_size = 10\n",
    "\n",
    "# Training criterion. This one is a mean squared error (MSE) loss between the output\n",
    "# of the network and the target label\n",
    "criterion = nn.MSELoss()\n",
    "\n",
    "# Use SGD optimizer with a learning rate of 0.01\n",
    "# It is initialized on our model\n",
    "optimizer = torch.optim.SGD(model.parameters(), lr=0.01)"
   ]
  },
  {
   "cell_type": "markdown",
   "metadata": {},
   "source": [
    "#### Training the defined model\n",
    "More information can be found [here](https://pytorch.org/tutorials/beginner/blitz/neural_networks_tutorial.html#sphx-glr-beginner-blitz-neural-networks-tutorial-py)."
   ]
  },
  {
   "cell_type": "code",
   "execution_count": 30,
   "metadata": {},
   "outputs": [],
   "source": [
    "# define a function for training\n",
    "from tqdm.autonotebook import tqdm\n",
    "\n",
    "def train(num_epochs, batch_size, criterion, optimizer, model, dataset, verbose=0):\n",
    "    train_error = []\n",
    "    train_loader = DataLoader(dataset, batch_size, shuffle=True)\n",
    "    model.train()\n",
    "    for epoch in tqdm(range(num_epochs)):\n",
    "        epoch_average_loss = 0.0\n",
    "        for (X_batch, y_real) in train_loader:\n",
    "            y_pre = model(X_batch).view(-1)\n",
    "            loss = criterion(y_pre, y_real.float())\n",
    "            optimizer.zero_grad()\n",
    "            loss.backward()\n",
    "            optimizer.step()\n",
    "            epoch_average_loss += loss.item() * batch_size / len(dataset)\n",
    "        train_error.append(epoch_average_loss)\n",
    "        if verbose:\n",
    "            print('Epoch [{}/{}], Loss: {:.4f}'\n",
    "                      .format(epoch+1, num_epochs, epoch_average_loss))\n",
    "    return train_error"
   ]
  },
  {
   "cell_type": "code",
   "execution_count": 31,
   "metadata": {},
   "outputs": [
    {
     "name": "stderr",
     "output_type": "stream",
     "text": [
      "100%|██████████| 10/10 [00:01<00:00,  6.41it/s]\n"
     ]
    }
   ],
   "source": [
    "train_error = train(num_epochs, batch_size, criterion, optimizer, model, training_set)"
   ]
  },
  {
   "cell_type": "code",
   "execution_count": 12,
   "metadata": {},
   "outputs": [
    {
     "data": {
      "text/plain": [
       "Text(0.5, 1.0, 'Visualization of convergence')"
      ]
     },
     "execution_count": 12,
     "metadata": {},
     "output_type": "execute_result"
    },
    {
     "data": {
      "image/png": "[encoded data removed]",
      "text/plain": [
       "<Figure size 432x288 with 1 Axes>"
      ]
     },
     "metadata": {
      "needs_background": "light"
     },
     "output_type": "display_data"
    }
   ],
   "source": [
    "# plot the training error wrt. the number of epochs: \n",
    "plt.plot(range(1, num_epochs+1), train_error)\n",
    "plt.xlabel(\"num_epochs\")\n",
    "plt.ylabel(\"Train error\")\n",
    "plt.title(\"Visualization of convergence\")"
   ]
  },
  {
   "cell_type": "markdown",
   "metadata": {},
   "source": [
    "#### Evaluate the model on the validation set"
   ]
  },
  {
   "cell_type": "code",
   "execution_count": 13,
   "metadata": {},
   "outputs": [],
   "source": [
    "# Generate 1000 validation data:\n",
    "X_val, y_val = generate_data(1000)"
   ]
  },
  {
   "cell_type": "code",
   "execution_count": 14,
   "metadata": {},
   "outputs": [],
   "source": [
    "# predict labels for validation set\n",
    "model.eval() # set the model to test mode\n",
    "with torch.no_grad():\n",
    "    y_pre = model(X_val).view(-1)\n",
    "    #loss = criterion(y_val, y_pre.float())\n",
    "    #print(loss.item())"
   ]
  },
  {
   "cell_type": "code",
   "execution_count": 36,
   "metadata": {},
   "outputs": [],
   "source": [
    "# Calculate the accuracy on validation set to evaluate the model by the function accuracy\n",
    "def accuracy(y_real, y_pre):\n",
    "    y_pre[y_pre<0.5] = 0\n",
    "    y_pre[y_pre>=0.5] = 1\n",
    "\n",
    "    acc = 1 - torch.sum(torch.abs(y_pre - y_real))/len(y_pre)\n",
    "    print('Accuracy of the network on the 1000 validation data: {:.2f} %'.format(acc.item()*100))\n",
    "    return acc.item()"
   ]
  },
  {
   "cell_type": "code",
   "execution_count": 16,
   "metadata": {},
   "outputs": [
    {
     "name": "stdout",
     "output_type": "stream",
     "text": [
      "Accuracy of the network on the 1000 validation data: 59.00 %\n"
     ]
    }
   ],
   "source": [
    "accuracy(y_val, y_pre)"
   ]
  },
  {
   "cell_type": "code",
   "execution_count": 18,
   "metadata": {},
   "outputs": [],
   "source": [
    "# Compare the prediction with real labels\n",
    "\n",
    "def compare_pred(X, y_real, y_pre):\n",
    "    plt.figure(figsize=(10, 5))\n",
    "\n",
    "    plt.subplot(121)\n",
    "    plt.plot(X[y_real==1, 0], X[y_real==1, 1], 'r+') #Examples are represented as a red plusses for label 1\n",
    "    plt.plot(X[y_real==0, 0], X[y_real==0, 1], 'b+') #Examples are represented as a blue plusses for label 0\n",
    "    plt.title(\"real data\")\n",
    "\n",
    "    plt.subplot(122)\n",
    "    plt.plot(X[y_pre==1, 0], X[y_pre==1, 1], 'r+')\n",
    "    plt.plot(X[y_pre==0, 0], X[y_pre==0, 1], 'b+')\n",
    "    plt.title(\"prediciton results\")"
   ]
  },
  {
   "cell_type": "code",
   "execution_count": 19,
   "metadata": {},
   "outputs": [
    {
     "data": {
      "image/png": "[encoded data removed]",
      "text/plain": [
       "<Figure size 720x360 with 2 Axes>"
      ]
     },
     "metadata": {
      "needs_background": "light"
     },
     "output_type": "display_data"
    }
   ],
   "source": [
    "compare_pred(X_val, y_val, y_pre)"
   ]
  },
  {
   "cell_type": "markdown",
   "metadata": {},
   "source": [
    "### Exercise 1: Impact of the architecture of the model\n",
    "\n",
    "The class `Model` is the definition of your model. You can now modify it to try out different architectures and\n",
    "see the impact of the following factors:\n",
    "\n",
    "* Try to add more layers (1, 2, 3, more ?)\n",
    "* Try to different activation functions ([sigmoid](https://pytorch.org/docs/stable/nn.functional.html#torch.nn.functional.sigmoid), [tanh](https://pytorch.org/docs/stable/nn.functional.html#torch.nn.functional.tanh), [relu](https://pytorch.org/docs/stable/nn.functional.html#torch.nn.functional.relu), etc.)\n",
    "* Try to change the number of neurons for each layer (5, 10, 20, more ?)"
   ]
  },
  {
   "cell_type": "markdown",
   "metadata": {},
   "source": [
    "### Exercise 2: Impact of the optimizer\n",
    "\n",
    "Retrain the model by using different parameters of the optimizer, you can change its parameter in the cell initializing it, after the definition of your model.\n",
    "\n",
    "* Use different batch size from 10 to 400\n",
    "* Try different values of the learning rate (between 0.001 and 10), and see how these impact the trainig process. Do all network architectures react the same way to different learning rates?\n",
    "* Change the duration of the training by increasing the number of epochs\n",
    "* Try other optimizers, such as [Adam](https://pytorch.org/docs/stable/optim.html?highlight=adam#torch.optim.Adam) or [RMSprop](https://pytorch.org/docs/stable/optim.html?highlight=rmsprop#torch.optim.RMSprop)\n",
    "\n",
    "**Note:** These changes may interact with your previous choices of architectures, and you may need to change them as well!"
   ]
  },
  {
   "cell_type": "markdown",
   "metadata": {},
   "source": [
    "### Exercise 3: Impact of the loss function\n",
    "\n",
    "The current model uses a mean square error (MSE) loss. While this loss can be used in this case, it is now rarely used for classification, and instead a Binary Cross Entropy (BCE) is used. It consists in interpreting the output of the network as the probability $p(y | x)$ of the point $x$ to belong to the class $y$, and in maximizing the probability to be correct for all samples $x$, that is, in maximizing $\\displaystyle \\prod_{(x,y) \\in Dataset} p(y|x)$. Applying $-\\log$ to this quantity, we obtain the following criterion to minimize:\n",
    "\n",
    "$$ \\sum_{(x,y) \\in Dataset} - \\log p(y | x) $$\n",
    "\n",
    "This is implemented as such by the [BCELoss](https://pytorch.org/docs/stable/nn.html?highlight=bce#torch.nn.BCELoss) of pytorch. Note that this criterion requires its input to be a probability, i.e. in $[0,1]$, which requires the use of an appropriate activation function beforehand, e.g., a sigmoid.\n",
    "\n",
    "It turns out that, for numerical stability reasons, it is better to incorporate this sigmoid and the BCELoss into a single function; this is done by the [BCEWithLogitsLoss](https://pytorch.org/docs/stable/nn.html?highlight=bcewithlogit#torch.nn.BCEWithLogitsLoss). Try to replace the MSE by this one and see how this changes the behavior in the network. This can also interact with the changes of the two previous exercices.\n",
    "\n",
    "**Note:** As a consequence, when using the BCEWithLogitsLoss, the last layer of your network should not be followed by an activation function, as BCEWithLogitsLoss already adds a sigmoid."
   ]
  },
  {
   "cell_type": "markdown",
   "metadata": {},
   "source": [
    "### Exercise 4: Prediction on test set\n",
    "\n",
    "Once you have a model that seems satisfying on the validation dataset, you SHOULD evaluate it on a test dataset that has never been used before, to obtain a final accuracy value."
   ]
  },
  {
   "cell_type": "code",
   "execution_count": null,
   "metadata": {},
   "outputs": [],
   "source": [
    "# Here is a test dataset. Use it similarly to the validaiton dataset above\n",
    "# to compute the final performance of your model\n",
    "X_test, y_test = generate_data(500)"
   ]
  },
  {
   "cell_type": "code",
   "execution_count": 49,
   "metadata": {},
   "outputs": [
    {
     "name": "stdout",
     "output_type": "stream",
     "text": [
      "{'layers': [2, 10, 1], 'num_epochs': 50, 'non_linearity': 'relu', 'batch_size': 10, 'optimizer_algo': <class 'torch.optim.sgd.SGD'>}\n"
     ]
    },
    {
     "name": "stderr",
     "output_type": "stream",
     "text": [
      "100%|██████████| 50/50 [00:07<00:00,  6.74it/s]\n"
     ]
    },
    {
     "name": "stdout",
     "output_type": "stream",
     "text": [
      "Accuracy of the network on the 1000 validation data: 57.90 %\n",
      "{'layers': [2, 32, 1], 'num_epochs': 50, 'non_linearity': 'relu', 'batch_size': 10, 'optimizer_algo': <class 'torch.optim.sgd.SGD'>}\n"
     ]
    },
    {
     "name": "stderr",
     "output_type": "stream",
     "text": [
      "100%|██████████| 50/50 [00:07<00:00,  7.00it/s]\n"
     ]
    },
    {
     "name": "stdout",
     "output_type": "stream",
     "text": [
      "Accuracy of the network on the 1000 validation data: 58.60 %\n",
      "{'layers': [2, 512, 1], 'num_epochs': 50, 'non_linearity': 'relu', 'batch_size': 10, 'optimizer_algo': <class 'torch.optim.sgd.SGD'>}\n"
     ]
    },
    {
     "name": "stderr",
     "output_type": "stream",
     "text": [
      "100%|██████████| 50/50 [00:08<00:00,  6.03it/s]\n"
     ]
    },
    {
     "name": "stdout",
     "output_type": "stream",
     "text": [
      "Accuracy of the network on the 1000 validation data: 57.70 %\n",
      "{'layers': [2, 2048, 1], 'num_epochs': 50, 'non_linearity': 'relu', 'batch_size': 10, 'optimizer_algo': <class 'torch.optim.sgd.SGD'>}\n"
     ]
    },
    {
     "name": "stderr",
     "output_type": "stream",
     "text": [
      "100%|██████████| 50/50 [00:08<00:00,  5.81it/s]\n"
     ]
    },
    {
     "name": "stdout",
     "output_type": "stream",
     "text": [
      "Accuracy of the network on the 1000 validation data: 64.50 %\n",
      "{'layers': [2, 10, 10, 1], 'num_epochs': 50, 'non_linearity': 'relu', 'batch_size': 10, 'optimizer_algo': <class 'torch.optim.sgd.SGD'>}\n"
     ]
    },
    {
     "name": "stderr",
     "output_type": "stream",
     "text": [
      "100%|██████████| 50/50 [00:08<00:00,  5.74it/s]\n"
     ]
    },
    {
     "name": "stdout",
     "output_type": "stream",
     "text": [
      "Accuracy of the network on the 1000 validation data: 57.80 %\n",
      "{'layers': [2, 10, 10, 10, 1], 'num_epochs': 50, 'non_linearity': 'relu', 'batch_size': 10, 'optimizer_algo': <class 'torch.optim.sgd.SGD'>}\n"
     ]
    },
    {
     "name": "stderr",
     "output_type": "stream",
     "text": [
      "100%|██████████| 50/50 [00:09<00:00,  5.05it/s]\n"
     ]
    },
    {
     "name": "stdout",
     "output_type": "stream",
     "text": [
      "Accuracy of the network on the 1000 validation data: 61.10 %\n",
      "{'layers': [2, 10, 10, 1], 'num_epochs': 10, 'non_linearity': 'relu', 'batch_size': 10, 'optimizer_algo': <class 'torch.optim.sgd.SGD'>}\n"
     ]
    },
    {
     "name": "stderr",
     "output_type": "stream",
     "text": [
      "100%|██████████| 10/10 [00:01<00:00,  6.02it/s]\n"
     ]
    },
    {
     "name": "stdout",
     "output_type": "stream",
     "text": [
      "Accuracy of the network on the 1000 validation data: 60.40 %\n",
      "{'layers': [2, 10, 10, 1], 'num_epochs': 50, 'non_linearity': 'relu', 'batch_size': 10, 'optimizer_algo': <class 'torch.optim.sgd.SGD'>}\n"
     ]
    },
    {
     "name": "stderr",
     "output_type": "stream",
     "text": [
      "100%|██████████| 50/50 [00:08<00:00,  6.05it/s]\n"
     ]
    },
    {
     "name": "stdout",
     "output_type": "stream",
     "text": [
      "Accuracy of the network on the 1000 validation data: 59.90 %\n",
      "{'layers': [2, 10, 10, 1], 'num_epochs': 100, 'non_linearity': 'relu', 'batch_size': 10, 'optimizer_algo': <class 'torch.optim.sgd.SGD'>}\n"
     ]
    },
    {
     "name": "stderr",
     "output_type": "stream",
     "text": [
      "100%|██████████| 100/100 [00:16<00:00,  6.04it/s]\n"
     ]
    },
    {
     "name": "stdout",
     "output_type": "stream",
     "text": [
      "Accuracy of the network on the 1000 validation data: 58.70 %\n",
      "{'layers': [2, 10, 10, 1], 'num_epochs': 50, 'non_linearity': 'sigmoid', 'batch_size': 10, 'optimizer_algo': <class 'torch.optim.sgd.SGD'>}\n"
     ]
    },
    {
     "name": "stderr",
     "output_type": "stream",
     "text": [
      "100%|██████████| 50/50 [00:08<00:00,  5.91it/s]\n"
     ]
    },
    {
     "name": "stdout",
     "output_type": "stream",
     "text": [
      "Accuracy of the network on the 1000 validation data: 59.00 %\n",
      "{'layers': [2, 10, 10, 1], 'num_epochs': 50, 'non_linearity': 'tanh', 'batch_size': 10, 'optimizer_algo': <class 'torch.optim.sgd.SGD'>}\n"
     ]
    },
    {
     "name": "stderr",
     "output_type": "stream",
     "text": [
      "100%|██████████| 50/50 [00:08<00:00,  6.07it/s]\n"
     ]
    },
    {
     "name": "stdout",
     "output_type": "stream",
     "text": [
      "Accuracy of the network on the 1000 validation data: 60.40 %\n",
      "{'layers': [2, 10, 10, 1], 'num_epochs': 50, 'non_linearity': 'relu', 'batch_size': 32, 'optimizer_algo': <class 'torch.optim.sgd.SGD'>}\n"
     ]
    },
    {
     "name": "stderr",
     "output_type": "stream",
     "text": [
      "100%|██████████| 50/50 [00:03<00:00, 15.05it/s]\n"
     ]
    },
    {
     "name": "stdout",
     "output_type": "stream",
     "text": [
      "Accuracy of the network on the 1000 validation data: 56.80 %\n",
      "{'layers': [2, 10, 10, 1], 'num_epochs': 50, 'non_linearity': 'relu', 'batch_size': 128, 'optimizer_algo': <class 'torch.optim.sgd.SGD'>}\n"
     ]
    },
    {
     "name": "stderr",
     "output_type": "stream",
     "text": [
      "100%|██████████| 50/50 [00:01<00:00, 32.47it/s]\n"
     ]
    },
    {
     "name": "stdout",
     "output_type": "stream",
     "text": [
      "Accuracy of the network on the 1000 validation data: 57.80 %\n",
      "{'layers': [2, 10, 10, 1], 'num_epochs': 50, 'non_linearity': 'relu', 'batch_size': 400, 'optimizer_algo': <class 'torch.optim.sgd.SGD'>}\n"
     ]
    },
    {
     "name": "stderr",
     "output_type": "stream",
     "text": [
      "100%|██████████| 50/50 [00:01<00:00, 38.26it/s]\n"
     ]
    },
    {
     "name": "stdout",
     "output_type": "stream",
     "text": [
      "Accuracy of the network on the 1000 validation data: 52.70 %\n",
      "{'layers': [2, 10, 10, 1], 'num_epochs': 50, 'non_linearity': 'relu', 'batch_size': 10, 'optimizer_algo': <class 'torch.optim.rmsprop.RMSprop'>}\n"
     ]
    },
    {
     "name": "stderr",
     "output_type": "stream",
     "text": [
      "100%|██████████| 50/50 [00:14<00:00,  3.48it/s]\n"
     ]
    },
    {
     "name": "stdout",
     "output_type": "stream",
     "text": [
      "Accuracy of the network on the 1000 validation data: 96.80 %\n",
      "{'layers': [2, 10, 10, 1], 'num_epochs': 50, 'non_linearity': 'relu', 'batch_size': 10, 'optimizer_algo': <class 'torch.optim.adam.Adam'>}\n"
     ]
    },
    {
     "name": "stderr",
     "output_type": "stream",
     "text": [
      "100%|██████████| 50/50 [00:12<00:00,  3.86it/s]"
     ]
    },
    {
     "name": "stdout",
     "output_type": "stream",
     "text": [
      "Accuracy of the network on the 1000 validation data: 92.10 %\n"
     ]
    },
    {
     "name": "stderr",
     "output_type": "stream",
     "text": [
      "\n"
     ]
    },
    {
     "data": {
      "text/html": [
       "<div>\n",
       "<style scoped>\n",
       "    .dataframe tbody tr th:only-of-type {\n",
       "        vertical-align: middle;\n",
       "    }\n",
       "\n",
       "    .dataframe tbody tr th {\n",
       "        vertical-align: top;\n",
       "    }\n",
       "\n",
       "    .dataframe thead th {\n",
       "        text-align: right;\n",
       "    }\n",
       "</style>\n",
       "<table border=\"1\" class=\"dataframe\">\n",
       "  <thead>\n",
       "    <tr style=\"text-align: right;\">\n",
       "      <th></th>\n",
       "      <th>layers</th>\n",
       "      <th>num_epochs</th>\n",
       "      <th>non_linearity</th>\n",
       "      <th>batch_size</th>\n",
       "      <th>optimizer_algo</th>\n",
       "      <th>acc</th>\n",
       "      <th>hp_name</th>\n",
       "    </tr>\n",
       "  </thead>\n",
       "  <tbody>\n",
       "    <tr>\n",
       "      <th>0</th>\n",
       "      <td>[2, 10, 1]</td>\n",
       "      <td>50</td>\n",
       "      <td>relu</td>\n",
       "      <td>10</td>\n",
       "      <td>&lt;class 'torch.optim.sgd.SGD'&gt;</td>\n",
       "      <td>0.579</td>\n",
       "      <td>layers</td>\n",
       "    </tr>\n",
       "    <tr>\n",
       "      <th>1</th>\n",
       "      <td>[2, 32, 1]</td>\n",
       "      <td>50</td>\n",
       "      <td>relu</td>\n",
       "      <td>10</td>\n",
       "      <td>&lt;class 'torch.optim.sgd.SGD'&gt;</td>\n",
       "      <td>0.586</td>\n",
       "      <td>layers</td>\n",
       "    </tr>\n",
       "    <tr>\n",
       "      <th>2</th>\n",
       "      <td>[2, 512, 1]</td>\n",
       "      <td>50</td>\n",
       "      <td>relu</td>\n",
       "      <td>10</td>\n",
       "      <td>&lt;class 'torch.optim.sgd.SGD'&gt;</td>\n",
       "      <td>0.577</td>\n",
       "      <td>layers</td>\n",
       "    </tr>\n",
       "    <tr>\n",
       "      <th>3</th>\n",
       "      <td>[2, 2048, 1]</td>\n",
       "      <td>50</td>\n",
       "      <td>relu</td>\n",
       "      <td>10</td>\n",
       "      <td>&lt;class 'torch.optim.sgd.SGD'&gt;</td>\n",
       "      <td>0.645</td>\n",
       "      <td>layers</td>\n",
       "    </tr>\n",
       "    <tr>\n",
       "      <th>4</th>\n",
       "      <td>[2, 10, 10, 1]</td>\n",
       "      <td>50</td>\n",
       "      <td>relu</td>\n",
       "      <td>10</td>\n",
       "      <td>&lt;class 'torch.optim.sgd.SGD'&gt;</td>\n",
       "      <td>0.578</td>\n",
       "      <td>layers</td>\n",
       "    </tr>\n",
       "    <tr>\n",
       "      <th>5</th>\n",
       "      <td>[2, 10, 10, 10, 1]</td>\n",
       "      <td>50</td>\n",
       "      <td>relu</td>\n",
       "      <td>10</td>\n",
       "      <td>&lt;class 'torch.optim.sgd.SGD'&gt;</td>\n",
       "      <td>0.611</td>\n",
       "      <td>layers</td>\n",
       "    </tr>\n",
       "    <tr>\n",
       "      <th>6</th>\n",
       "      <td>[2, 10, 10, 1]</td>\n",
       "      <td>10</td>\n",
       "      <td>relu</td>\n",
       "      <td>10</td>\n",
       "      <td>&lt;class 'torch.optim.sgd.SGD'&gt;</td>\n",
       "      <td>0.604</td>\n",
       "      <td>num_epochs</td>\n",
       "    </tr>\n",
       "    <tr>\n",
       "      <th>7</th>\n",
       "      <td>[2, 10, 10, 1]</td>\n",
       "      <td>50</td>\n",
       "      <td>relu</td>\n",
       "      <td>10</td>\n",
       "      <td>&lt;class 'torch.optim.sgd.SGD'&gt;</td>\n",
       "      <td>0.599</td>\n",
       "      <td>num_epochs</td>\n",
       "    </tr>\n",
       "    <tr>\n",
       "      <th>8</th>\n",
       "      <td>[2, 10, 10, 1]</td>\n",
       "      <td>100</td>\n",
       "      <td>relu</td>\n",
       "      <td>10</td>\n",
       "      <td>&lt;class 'torch.optim.sgd.SGD'&gt;</td>\n",
       "      <td>0.587</td>\n",
       "      <td>num_epochs</td>\n",
       "    </tr>\n",
       "    <tr>\n",
       "      <th>9</th>\n",
       "      <td>[2, 10, 10, 1]</td>\n",
       "      <td>50</td>\n",
       "      <td>sigmoid</td>\n",
       "      <td>10</td>\n",
       "      <td>&lt;class 'torch.optim.sgd.SGD'&gt;</td>\n",
       "      <td>0.590</td>\n",
       "      <td>non_linearity</td>\n",
       "    </tr>\n",
       "    <tr>\n",
       "      <th>10</th>\n",
       "      <td>[2, 10, 10, 1]</td>\n",
       "      <td>50</td>\n",
       "      <td>tanh</td>\n",
       "      <td>10</td>\n",
       "      <td>&lt;class 'torch.optim.sgd.SGD'&gt;</td>\n",
       "      <td>0.604</td>\n",
       "      <td>non_linearity</td>\n",
       "    </tr>\n",
       "    <tr>\n",
       "      <th>11</th>\n",
       "      <td>[2, 10, 10, 1]</td>\n",
       "      <td>50</td>\n",
       "      <td>relu</td>\n",
       "      <td>32</td>\n",
       "      <td>&lt;class 'torch.optim.sgd.SGD'&gt;</td>\n",
       "      <td>0.568</td>\n",
       "      <td>batch_size</td>\n",
       "    </tr>\n",
       "    <tr>\n",
       "      <th>12</th>\n",
       "      <td>[2, 10, 10, 1]</td>\n",
       "      <td>50</td>\n",
       "      <td>relu</td>\n",
       "      <td>128</td>\n",
       "      <td>&lt;class 'torch.optim.sgd.SGD'&gt;</td>\n",
       "      <td>0.578</td>\n",
       "      <td>batch_size</td>\n",
       "    </tr>\n",
       "    <tr>\n",
       "      <th>13</th>\n",
       "      <td>[2, 10, 10, 1]</td>\n",
       "      <td>50</td>\n",
       "      <td>relu</td>\n",
       "      <td>400</td>\n",
       "      <td>&lt;class 'torch.optim.sgd.SGD'&gt;</td>\n",
       "      <td>0.527</td>\n",
       "      <td>batch_size</td>\n",
       "    </tr>\n",
       "    <tr>\n",
       "      <th>14</th>\n",
       "      <td>[2, 10, 10, 1]</td>\n",
       "      <td>50</td>\n",
       "      <td>relu</td>\n",
       "      <td>10</td>\n",
       "      <td>&lt;class 'torch.optim.rmsprop.RMSprop'&gt;</td>\n",
       "      <td>0.968</td>\n",
       "      <td>optimizer_algo</td>\n",
       "    </tr>\n",
       "    <tr>\n",
       "      <th>15</th>\n",
       "      <td>[2, 10, 10, 1]</td>\n",
       "      <td>50</td>\n",
       "      <td>relu</td>\n",
       "      <td>10</td>\n",
       "      <td>&lt;class 'torch.optim.adam.Adam'&gt;</td>\n",
       "      <td>0.921</td>\n",
       "      <td>optimizer_algo</td>\n",
       "    </tr>\n",
       "  </tbody>\n",
       "</table>\n",
       "</div>"
      ],
      "text/plain": [
       "                layers  num_epochs non_linearity  batch_size  \\\n",
       "0           [2, 10, 1]          50          relu          10   \n",
       "1           [2, 32, 1]          50          relu          10   \n",
       "2          [2, 512, 1]          50          relu          10   \n",
       "3         [2, 2048, 1]          50          relu          10   \n",
       "4       [2, 10, 10, 1]          50          relu          10   \n",
       "5   [2, 10, 10, 10, 1]          50          relu          10   \n",
       "6       [2, 10, 10, 1]          10          relu          10   \n",
       "7       [2, 10, 10, 1]          50          relu          10   \n",
       "8       [2, 10, 10, 1]         100          relu          10   \n",
       "9       [2, 10, 10, 1]          50       sigmoid          10   \n",
       "10      [2, 10, 10, 1]          50          tanh          10   \n",
       "11      [2, 10, 10, 1]          50          relu          32   \n",
       "12      [2, 10, 10, 1]          50          relu         128   \n",
       "13      [2, 10, 10, 1]          50          relu         400   \n",
       "14      [2, 10, 10, 1]          50          relu          10   \n",
       "15      [2, 10, 10, 1]          50          relu          10   \n",
       "\n",
       "                           optimizer_algo    acc         hp_name  \n",
       "0           <class 'torch.optim.sgd.SGD'>  0.579          layers  \n",
       "1           <class 'torch.optim.sgd.SGD'>  0.586          layers  \n",
       "2           <class 'torch.optim.sgd.SGD'>  0.577          layers  \n",
       "3           <class 'torch.optim.sgd.SGD'>  0.645          layers  \n",
       "4           <class 'torch.optim.sgd.SGD'>  0.578          layers  \n",
       "5           <class 'torch.optim.sgd.SGD'>  0.611          layers  \n",
       "6           <class 'torch.optim.sgd.SGD'>  0.604      num_epochs  \n",
       "7           <class 'torch.optim.sgd.SGD'>  0.599      num_epochs  \n",
       "8           <class 'torch.optim.sgd.SGD'>  0.587      num_epochs  \n",
       "9           <class 'torch.optim.sgd.SGD'>  0.590   non_linearity  \n",
       "10          <class 'torch.optim.sgd.SGD'>  0.604   non_linearity  \n",
       "11          <class 'torch.optim.sgd.SGD'>  0.568      batch_size  \n",
       "12          <class 'torch.optim.sgd.SGD'>  0.578      batch_size  \n",
       "13          <class 'torch.optim.sgd.SGD'>  0.527      batch_size  \n",
       "14  <class 'torch.optim.rmsprop.RMSprop'>  0.968  optimizer_algo  \n",
       "15        <class 'torch.optim.adam.Adam'>  0.921  optimizer_algo  "
      ]
     },
     "execution_count": 49,
     "metadata": {},
     "output_type": "execute_result"
    }
   ],
   "source": [
    "from typing_extensions import TypedDict\n",
    "from typing import Any\n",
    "import pandas as pd\n",
    "\n",
    "class HPRange(TypedDict):\n",
    "    hp_list : list\n",
    "    hp_default : Any\n",
    "\n",
    "\n",
    "hyperparameters = {\n",
    "    \"layers\" : HPRange(hp_list=[[2, 10, 1],[2, 32, 1],[2, 512, 1],[2, 2048, 1], \n",
    "                                [2, 10, 10, 1], [2, 10, 10, 10, 1]],\n",
    "                       hp_default=[2, 10, 10, 1]),\n",
    "    \"num_epochs\" : HPRange(hp_list=[10, 50, 100], hp_default=50),\n",
    "    \"non_linearity\": HPRange(hp_list=[\"sigmoid\", \"tanh\"], hp_default='relu'),\n",
    "    \"batch_size\" : HPRange(hp_list=[32, 128, 400], hp_default=10),\n",
    "    \"optimizer_algo\" : HPRange(hp_list=[torch.optim.RMSprop, torch.optim.Adam], hp_default=torch.optim.SGD),\n",
    "}\n",
    "\n",
    "def eval_hp_end2end(*, num_epochs, batch_size, non_linearity, layers, optimizer_algo):\n",
    "    criterion = nn.MSELoss()\n",
    "    model = Model(layers=layers, non_linearity=non_linearity)\n",
    "    optimizer = optimizer_algo(model.parameters(), lr=0.01)\n",
    "\n",
    "    train_error = train(num_epochs, batch_size, criterion, optimizer, model, training_set)\n",
    "\n",
    "    # predict labels for validation set\n",
    "    model.eval() \n",
    "    with torch.no_grad():\n",
    "        y_pre = model(X_val).view(-1)\n",
    "        #loss = criterion(y_val, y_pre.float())\n",
    "        #print(loss.item())\n",
    "\n",
    "    return accuracy(y_val, y_pre)\n",
    "\n",
    "from copy import deepcopy\n",
    "\n",
    "defaults_params = {name: hprange[\"hp_default\"] for name, hprange in hyperparameters.items() }\n",
    "\n",
    "list_results = []\n",
    "\n",
    "for hp_name, hp_range in hyperparameters.items():\n",
    "    for hp in hp_range[\"hp_list\"]:\n",
    "        copy_default = deepcopy(defaults_params)\n",
    "        copy_default[hp_name] = hp\n",
    "        print(copy_default)\n",
    "        acc = eval_hp_end2end(**copy_default)\n",
    "        copy_default[\"acc\"] = acc\n",
    "        copy_default[\"hp_name\"] = hp_name\n",
    "        list_results.append(copy_default)\n",
    "\n",
    "\n"
   ]
  },
  {
   "cell_type": "code",
   "execution_count": 50,
   "metadata": {},
   "outputs": [
    {
     "data": {
      "text/html": [
       "<div>\n",
       "<style scoped>\n",
       "    .dataframe tbody tr th:only-of-type {\n",
       "        vertical-align: middle;\n",
       "    }\n",
       "\n",
       "    .dataframe tbody tr th {\n",
       "        vertical-align: top;\n",
       "    }\n",
       "\n",
       "    .dataframe thead th {\n",
       "        text-align: right;\n",
       "    }\n",
       "</style>\n",
       "<table border=\"1\" class=\"dataframe\">\n",
       "  <thead>\n",
       "    <tr style=\"text-align: right;\">\n",
       "      <th></th>\n",
       "      <th>layers</th>\n",
       "      <th>num_epochs</th>\n",
       "      <th>non_linearity</th>\n",
       "      <th>batch_size</th>\n",
       "      <th>optimizer_algo</th>\n",
       "      <th>acc</th>\n",
       "    </tr>\n",
       "    <tr>\n",
       "      <th>hp_name</th>\n",
       "      <th></th>\n",
       "      <th></th>\n",
       "      <th></th>\n",
       "      <th></th>\n",
       "      <th></th>\n",
       "      <th></th>\n",
       "    </tr>\n",
       "  </thead>\n",
       "  <tbody>\n",
       "    <tr>\n",
       "      <th>layers</th>\n",
       "      <td>[2, 10, 1]</td>\n",
       "      <td>50</td>\n",
       "      <td>relu</td>\n",
       "      <td>10</td>\n",
       "      <td>&lt;class 'torch.optim.sgd.SGD'&gt;</td>\n",
       "      <td>0.579</td>\n",
       "    </tr>\n",
       "    <tr>\n",
       "      <th>layers</th>\n",
       "      <td>[2, 32, 1]</td>\n",
       "      <td>50</td>\n",
       "      <td>relu</td>\n",
       "      <td>10</td>\n",
       "      <td>&lt;class 'torch.optim.sgd.SGD'&gt;</td>\n",
       "      <td>0.586</td>\n",
       "    </tr>\n",
       "    <tr>\n",
       "      <th>layers</th>\n",
       "      <td>[2, 512, 1]</td>\n",
       "      <td>50</td>\n",
       "      <td>relu</td>\n",
       "      <td>10</td>\n",
       "      <td>&lt;class 'torch.optim.sgd.SGD'&gt;</td>\n",
       "      <td>0.577</td>\n",
       "    </tr>\n",
       "    <tr>\n",
       "      <th>layers</th>\n",
       "      <td>[2, 2048, 1]</td>\n",
       "      <td>50</td>\n",
       "      <td>relu</td>\n",
       "      <td>10</td>\n",
       "      <td>&lt;class 'torch.optim.sgd.SGD'&gt;</td>\n",
       "      <td>0.645</td>\n",
       "    </tr>\n",
       "    <tr>\n",
       "      <th>layers</th>\n",
       "      <td>[2, 10, 10, 1]</td>\n",
       "      <td>50</td>\n",
       "      <td>relu</td>\n",
       "      <td>10</td>\n",
       "      <td>&lt;class 'torch.optim.sgd.SGD'&gt;</td>\n",
       "      <td>0.578</td>\n",
       "    </tr>\n",
       "    <tr>\n",
       "      <th>layers</th>\n",
       "      <td>[2, 10, 10, 10, 1]</td>\n",
       "      <td>50</td>\n",
       "      <td>relu</td>\n",
       "      <td>10</td>\n",
       "      <td>&lt;class 'torch.optim.sgd.SGD'&gt;</td>\n",
       "      <td>0.611</td>\n",
       "    </tr>\n",
       "    <tr>\n",
       "      <th>num_epochs</th>\n",
       "      <td>[2, 10, 10, 1]</td>\n",
       "      <td>10</td>\n",
       "      <td>relu</td>\n",
       "      <td>10</td>\n",
       "      <td>&lt;class 'torch.optim.sgd.SGD'&gt;</td>\n",
       "      <td>0.604</td>\n",
       "    </tr>\n",
       "    <tr>\n",
       "      <th>num_epochs</th>\n",
       "      <td>[2, 10, 10, 1]</td>\n",
       "      <td>50</td>\n",
       "      <td>relu</td>\n",
       "      <td>10</td>\n",
       "      <td>&lt;class 'torch.optim.sgd.SGD'&gt;</td>\n",
       "      <td>0.599</td>\n",
       "    </tr>\n",
       "    <tr>\n",
       "      <th>num_epochs</th>\n",
       "      <td>[2, 10, 10, 1]</td>\n",
       "      <td>100</td>\n",
       "      <td>relu</td>\n",
       "      <td>10</td>\n",
       "      <td>&lt;class 'torch.optim.sgd.SGD'&gt;</td>\n",
       "      <td>0.587</td>\n",
       "    </tr>\n",
       "    <tr>\n",
       "      <th>non_linearity</th>\n",
       "      <td>[2, 10, 10, 1]</td>\n",
       "      <td>50</td>\n",
       "      <td>sigmoid</td>\n",
       "      <td>10</td>\n",
       "      <td>&lt;class 'torch.optim.sgd.SGD'&gt;</td>\n",
       "      <td>0.590</td>\n",
       "    </tr>\n",
       "    <tr>\n",
       "      <th>non_linearity</th>\n",
       "      <td>[2, 10, 10, 1]</td>\n",
       "      <td>50</td>\n",
       "      <td>tanh</td>\n",
       "      <td>10</td>\n",
       "      <td>&lt;class 'torch.optim.sgd.SGD'&gt;</td>\n",
       "      <td>0.604</td>\n",
       "    </tr>\n",
       "    <tr>\n",
       "      <th>batch_size</th>\n",
       "      <td>[2, 10, 10, 1]</td>\n",
       "      <td>50</td>\n",
       "      <td>relu</td>\n",
       "      <td>32</td>\n",
       "      <td>&lt;class 'torch.optim.sgd.SGD'&gt;</td>\n",
       "      <td>0.568</td>\n",
       "    </tr>\n",
       "    <tr>\n",
       "      <th>batch_size</th>\n",
       "      <td>[2, 10, 10, 1]</td>\n",
       "      <td>50</td>\n",
       "      <td>relu</td>\n",
       "      <td>128</td>\n",
       "      <td>&lt;class 'torch.optim.sgd.SGD'&gt;</td>\n",
       "      <td>0.578</td>\n",
       "    </tr>\n",
       "    <tr>\n",
       "      <th>batch_size</th>\n",
       "      <td>[2, 10, 10, 1]</td>\n",
       "      <td>50</td>\n",
       "      <td>relu</td>\n",
       "      <td>400</td>\n",
       "      <td>&lt;class 'torch.optim.sgd.SGD'&gt;</td>\n",
       "      <td>0.527</td>\n",
       "    </tr>\n",
       "    <tr>\n",
       "      <th>optimizer_algo</th>\n",
       "      <td>[2, 10, 10, 1]</td>\n",
       "      <td>50</td>\n",
       "      <td>relu</td>\n",
       "      <td>10</td>\n",
       "      <td>&lt;class 'torch.optim.rmsprop.RMSprop'&gt;</td>\n",
       "      <td>0.968</td>\n",
       "    </tr>\n",
       "    <tr>\n",
       "      <th>optimizer_algo</th>\n",
       "      <td>[2, 10, 10, 1]</td>\n",
       "      <td>50</td>\n",
       "      <td>relu</td>\n",
       "      <td>10</td>\n",
       "      <td>&lt;class 'torch.optim.adam.Adam'&gt;</td>\n",
       "      <td>0.921</td>\n",
       "    </tr>\n",
       "  </tbody>\n",
       "</table>\n",
       "</div>"
      ],
      "text/plain": [
       "                            layers  num_epochs non_linearity  batch_size  \\\n",
       "hp_name                                                                    \n",
       "layers                  [2, 10, 1]          50          relu          10   \n",
       "layers                  [2, 32, 1]          50          relu          10   \n",
       "layers                 [2, 512, 1]          50          relu          10   \n",
       "layers                [2, 2048, 1]          50          relu          10   \n",
       "layers              [2, 10, 10, 1]          50          relu          10   \n",
       "layers          [2, 10, 10, 10, 1]          50          relu          10   \n",
       "num_epochs          [2, 10, 10, 1]          10          relu          10   \n",
       "num_epochs          [2, 10, 10, 1]          50          relu          10   \n",
       "num_epochs          [2, 10, 10, 1]         100          relu          10   \n",
       "non_linearity       [2, 10, 10, 1]          50       sigmoid          10   \n",
       "non_linearity       [2, 10, 10, 1]          50          tanh          10   \n",
       "batch_size          [2, 10, 10, 1]          50          relu          32   \n",
       "batch_size          [2, 10, 10, 1]          50          relu         128   \n",
       "batch_size          [2, 10, 10, 1]          50          relu         400   \n",
       "optimizer_algo      [2, 10, 10, 1]          50          relu          10   \n",
       "optimizer_algo      [2, 10, 10, 1]          50          relu          10   \n",
       "\n",
       "                                       optimizer_algo    acc  \n",
       "hp_name                                                       \n",
       "layers                  <class 'torch.optim.sgd.SGD'>  0.579  \n",
       "layers                  <class 'torch.optim.sgd.SGD'>  0.586  \n",
       "layers                  <class 'torch.optim.sgd.SGD'>  0.577  \n",
       "layers                  <class 'torch.optim.sgd.SGD'>  0.645  \n",
       "layers                  <class 'torch.optim.sgd.SGD'>  0.578  \n",
       "layers                  <class 'torch.optim.sgd.SGD'>  0.611  \n",
       "num_epochs              <class 'torch.optim.sgd.SGD'>  0.604  \n",
       "num_epochs              <class 'torch.optim.sgd.SGD'>  0.599  \n",
       "num_epochs              <class 'torch.optim.sgd.SGD'>  0.587  \n",
       "non_linearity           <class 'torch.optim.sgd.SGD'>  0.590  \n",
       "non_linearity           <class 'torch.optim.sgd.SGD'>  0.604  \n",
       "batch_size              <class 'torch.optim.sgd.SGD'>  0.568  \n",
       "batch_size              <class 'torch.optim.sgd.SGD'>  0.578  \n",
       "batch_size              <class 'torch.optim.sgd.SGD'>  0.527  \n",
       "optimizer_algo  <class 'torch.optim.rmsprop.RMSprop'>  0.968  \n",
       "optimizer_algo        <class 'torch.optim.adam.Adam'>  0.921  "
      ]
     },
     "execution_count": 50,
     "metadata": {},
     "output_type": "execute_result"
    }
   ],
   "source": [
    "pd.DataFrame(list_results).set_index(\"hp_name\")"
   ]
  },
  {
   "cell_type": "code",
   "execution_count": null,
   "metadata": {},
   "outputs": [],
   "source": []
  }
 ],
 "metadata": {
  "interpreter": {
   "hash": "0e1c23db0fbed75fdc2c449bc2586185aea1cb9e55399a7c7962fa341cc34577"
  },
  "kernelspec": {
   "display_name": "Python 3.9.12 ('mlab')",
   "language": "python",
   "name": "python3"
  },
  "language_info": {
   "codemirror_mode": {
    "name": "ipython",
    "version": 3
   },
   "file_extension": ".py",
   "mimetype": "text/x-python",
   "name": "python",
   "nbconvert_exporter": "python",
   "pygments_lexer": "ipython3",
   "version": "3.9.12"
  }
 },
 "nbformat": 4,
 "nbformat_minor": 2
}
