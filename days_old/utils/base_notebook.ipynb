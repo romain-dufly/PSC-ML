{
 "cells": [
  {
   "cell_type": "code",
   "execution_count": 1,
   "id": "9f4a3cdd-9c2a-4165-98c0-601b8891ed80",
   "metadata": {},
   "outputs": [],
   "source": [
    "import torch as t\n",
    "from torch import einsum\n",
    "from einops import rearrange, reduce, repeat\n",
    "import numpy as np\n",
    "import mlab_tests\n",
    "from days.utils import * # MLAB-specific utils library. Contains useful functions like itpeek(tensor)\n",
    "from typing import *"
   ]
  },
  {
   "cell_type": "code",
   "execution_count": null,
   "id": "176bc032-cdb8-4184-b93d-02e85e8ead2a",
   "metadata": {},
   "outputs": [],
   "source": []
  }
 ],
 "metadata": {
  "kernelspec": {
   "display_name": "Python 3 (ipykernel)",
   "language": "python",
   "name": "python3"
  },
  "language_info": {
   "codemirror_mode": {
    "name": "ipython",
    "version": 3
   },
   "file_extension": ".py",
   "mimetype": "text/x-python",
   "name": "python",
   "nbconvert_exporter": "python",
   "pygments_lexer": "ipython3",
   "version": "3.8.10"
  }
 },
 "nbformat": 4,
 "nbformat_minor": 5
}
