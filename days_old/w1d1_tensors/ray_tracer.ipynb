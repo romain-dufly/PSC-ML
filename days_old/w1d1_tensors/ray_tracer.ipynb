{
 "cells": [
  {
   "cell_type": "code",
   "execution_count": 1,
   "id": "167142dc",
   "metadata": {},
   "outputs": [],
   "source": [
    "import torch as t\n",
    "import numpy as np\n",
    "import matplotlib.pyplot as plt"
   ]
  },
  {
   "cell_type": "code",
   "execution_count": 7,
   "id": "5aeed3a3-b336-4196-8118-eb3c540ff7d2",
   "metadata": {},
   "outputs": [
    {
     "name": "stdout",
     "output_type": "stream",
     "text": [
      "tensor([[ 1.0000, -0.3000, -0.3000],\n",
      "        [ 1.0000, -0.2793, -0.3000],\n",
      "        [ 1.0000, -0.2586, -0.3000],\n",
      "        ...,\n",
      "        [ 1.0000,  0.2586,  0.3000],\n",
      "        [ 1.0000,  0.2793,  0.3000],\n",
      "        [ 1.0000,  0.3000,  0.3000]])\n"
     ]
    }
   ],
   "source": [
    "H = W = 30\n",
    "B=H*W\n",
    "\n",
    "ray_origins = t.tensor([-5.0, 0, 0]).reshape([1, 3]).expand([B, 3])\n",
    "\n",
    "x_dirs = t.linspace(-0.3, 0.3, W).unsqueeze(0).expand([H, W]).reshape([-1])\n",
    "y_dirs = t.linspace(-0.3, 0.3, H).unsqueeze(1).expand([H, W]).reshape([-1])\n",
    "\n",
    "# todo: we should normalize these\n",
    "ray_directions = t.stack([t.ones(B), x_dirs, y_dirs], dim=1)\n",
    "print(ray_directions)\n"
   ]
  },
  {
   "cell_type": "markdown",
   "id": "1649612f-508d-47fc-9302-714b187016e4",
   "metadata": {},
   "source": [
    "## Step 1: render a single triangle"
   ]
  },
  {
   "cell_type": "code",
   "execution_count": 4,
   "id": "79c44bb1-8a98-4cc3-9f7c-f5a3fa51cc56",
   "metadata": {},
   "outputs": [
    {
     "name": "stdout",
     "output_type": "stream",
     "text": [
      "torch.Size([900, 3, 3])\n"
     ]
    }
   ],
   "source": [
    "vertices = t.tensor([[[3.0, 0, 0], [3, 0, 1], [3, 1, 1]]]).expand([B, 3, 3])\n",
    "\n",
    "vertex_0 = vertices[:, 0]\n",
    "vertex_1 = vertices[:, 1]\n",
    "vertex_2 = vertices[:, 2]\n",
    "\n",
    "edge_1 = vertex_1 - vertex_0\n",
    "\n",
    "edge_2 = vertex_2 - vertex_0\n",
    "\n",
    "h = ray_directions.cross(edge_2, dim=1)\n",
    "\n",
    "a = t.einsum(\"bx,bx->b\", edge_1, h)\n",
    "\n",
    "EPSILON = 1e-7\n",
    "\n",
    "mask = (a > -EPSILON) & (a < EPSILON)\n",
    "\n",
    "f = 1.0 / a\n",
    "s = ray_origins - vertex_0\n",
    "u = f * t.einsum(\"bx,bx->b\", s, h)\n",
    "\n",
    "mask2 = (u < 0) | (u > 1)\n",
    "\n",
    "q = s.cross(edge_1, dim=1)\n",
    "v = f * t.einsum(\"bx,bx->b\", ray_directions, q)\n",
    "mask3 = (v < 0) | (u + v > 1)\n"
   ]
  },
  {
   "cell_type": "code",
   "execution_count": 5,
   "id": "c933f6e6",
   "metadata": {},
   "outputs": [
    {
     "data": {
      "text/plain": [
       "<matplotlib.image.AxesImage at 0x7f9ecb7745e0>"
      ]
     },
     "execution_count": 5,
     "metadata": {},
     "output_type": "execute_result"
    },
    {
     "data": {
      "image/png": "[encoded data removed]",
      "text/plain": [
       "<Figure size 432x288 with 1 Axes>"
      ]
     },
     "metadata": {
      "needs_background": "light"
     },
     "output_type": "display_data"
    }
   ],
   "source": [
    "plt.imshow((mask | mask2 | mask3).reshape([H, W]))\n"
   ]
  },
  {
   "cell_type": "markdown",
   "id": "9fdc7e09-8e18-4f92-96ac-05004ced00f8",
   "metadata": {},
   "source": [
    "## Step 2: render multiple triangles\n"
   ]
  },
  {
   "cell_type": "code",
   "execution_count": 6,
   "id": "fcf1bc70-6930-48b0-b8b2-51147b4069d3",
   "metadata": {},
   "outputs": [],
   "source": [
    "from stl import mesh\n"
   ]
  },
  {
   "cell_type": "code",
   "execution_count": 7,
   "id": "282ec149-43da-4242-9f3d-6b2dbd270a65",
   "metadata": {},
   "outputs": [
    {
     "data": {
      "text/plain": [
       "(412, 3, 3)"
      ]
     },
     "execution_count": 7,
     "metadata": {},
     "output_type": "execute_result"
    }
   ],
   "source": [
    "mesh.Mesh.from_file(\"pikachu_1gen_flowalistik.STL\").vectors.shape\n"
   ]
  },
  {
   "cell_type": "code",
   "execution_count": 8,
   "id": "430ad675-3b2a-44f3-9021-618ca6b0458e",
   "metadata": {},
   "outputs": [],
   "source": [
    "# https://www.thingiverse.com/thing:376601\n",
    "model = mesh.Mesh.from_file(\"pikachu_1gen_flowalistik.STL\")\n",
    "model.translate(np.array([0, 0, -30]))\n",
    "# model = mesh.Mesh.from_file('utahteapot.stl')\n",
    "# teapot.translate(np.array([20, 0, -4]))\n"
   ]
  },
  {
   "cell_type": "code",
   "execution_count": 10,
   "id": "02d836f0-f28f-41ee-80bc-8d606aff223b",
   "metadata": {},
   "outputs": [],
   "source": [
    "vertices = t.tensor(model.vectors.copy())\n"
   ]
  },
  {
   "cell_type": "code",
   "execution_count": 11,
   "id": "9ccff5e8-80b6-4674-8db3-282fed46300d",
   "metadata": {},
   "outputs": [],
   "source": [
    "vertex_0 = vertices[:, 0].unsqueeze(0)\n",
    "vertex_1 = vertices[:, 1].unsqueeze(0)\n",
    "vertex_2 = vertices[:, 2].unsqueeze(0)\n"
   ]
  },
  {
   "cell_type": "code",
   "execution_count": 12,
   "id": "387a03ed-f807-4d29-b0e0-e29acc94deb3",
   "metadata": {},
   "outputs": [],
   "source": [
    "H = W = 300\n",
    "B = H * W\n",
    "\n",
    "ray_origins = t.tensor([-150.0, -50, 50]).reshape([1, 3]).expand([B, 3])\n",
    "\n",
    "x_dirs = t.linspace(0.15, 0.65, W).unsqueeze(0).expand([H, W]).reshape([-1])\n",
    "\n",
    "y_dirs = t.linspace(-0.6, -0.1, H).unsqueeze(1).expand([H, W]).reshape([-1])\n",
    "\n",
    "ray_directions = t.stack([t.ones(B), x_dirs, y_dirs], dim=1)\n"
   ]
  },
  {
   "cell_type": "code",
   "execution_count": 13,
   "id": "2b1a9d7d-a909-4202-b4b5-af5d55faac29",
   "metadata": {},
   "outputs": [],
   "source": [
    "num_vertices = vertices.shape[0]\n"
   ]
  },
  {
   "cell_type": "code",
   "execution_count": 44,
   "id": "5b7523a7-9413-4fe1-beec-c178ac1cd4bd",
   "metadata": {},
   "outputs": [
    {
     "name": "stdout",
     "output_type": "stream",
     "text": [
      "CPU times: user 9.19 s, sys: 1.07 s, total: 10.3 s\n",
      "Wall time: 2.59 s\n"
     ]
    }
   ],
   "source": [
    "%%time\n",
    "edge_1 = vertex_1 - vertex_0\n",
    "edge_2 = vertex_2 - vertex_0\n",
    "\n",
    "h = ray_directions.unsqueeze(1).expand([B, num_vertices, 3]).cross(edge_2.expand([B, num_vertices, 3]), dim=2)\n",
    "\n",
    "a = t.einsum('bvx,bvx->bv', edge_1, h)\n",
    "\n",
    "EPSILON = 1e-7\n",
    "\n",
    "mask = (a > -EPSILON) & (a < EPSILON)\n",
    "\n",
    "f = 1. / a\n",
    "s = ray_origins.unsqueeze(1) - vertex_0\n",
    "u = f * t.einsum('bvx,bvx->bv', s, h)\n",
    "\n",
    "mask2 = (u < 0) | (u > 1)\n",
    "\n",
    "q = s.cross(edge_1.expand([B, num_vertices, 3]), dim=2)\n",
    "v = f * t.einsum('bx,bvx->bv', ray_directions, q)\n",
    "mask3 = (v < 0) | (u + v > 1)"
   ]
  },
  {
   "cell_type": "code",
   "execution_count": 45,
   "id": "db3146ec-5599-422a-9780-b4b7011a60af",
   "metadata": {},
   "outputs": [
    {
     "data": {
      "text/plain": [
       "torch.Size([90000, 412])"
      ]
     },
     "execution_count": 45,
     "metadata": {},
     "output_type": "execute_result"
    }
   ],
   "source": [
    "mask2.shape\n"
   ]
  },
  {
   "cell_type": "code",
   "execution_count": 46,
   "id": "09b05445-db92-4663-9149-01570ddc3f49",
   "metadata": {},
   "outputs": [
    {
     "data": {
      "text/plain": [
       "<matplotlib.image.AxesImage at 0x7f9eaecd24c0>"
      ]
     },
     "execution_count": 46,
     "metadata": {},
     "output_type": "execute_result"
    },
    {
     "data": {
      "image/png": "[encoded data removed]",
      "text/plain": [
       "<Figure size 432x288 with 1 Axes>"
      ]
     },
     "metadata": {
      "needs_background": "light"
     },
     "output_type": "display_data"
    }
   ],
   "source": [
    "pixel_mask = (mask2 | mask3).all(dim=1)\n",
    "plt.imshow(pixel_mask.reshape([H, W]), origin=\"lower\")\n"
   ]
  },
  {
   "cell_type": "code",
   "execution_count": 18,
   "id": "33e49987-ee6d-4497-a402-5fc538e0984d",
   "metadata": {},
   "outputs": [],
   "source": [
    "# this variable is called `t` in the wikipedia C++ code\n",
    "t_ = f * t.einsum(\"zvd,pvd->pv\", edge_2, q)\n"
   ]
  },
  {
   "cell_type": "code",
   "execution_count": 19,
   "id": "4f74d66d-b521-48e4-8702-443343f9e96d",
   "metadata": {},
   "outputs": [
    {
     "data": {
      "text/plain": [
       "torch.Size([90000, 412])"
      ]
     },
     "execution_count": 19,
     "metadata": {},
     "output_type": "execute_result"
    }
   ],
   "source": [
    "t_.shape\n"
   ]
  },
  {
   "cell_type": "code",
   "execution_count": 20,
   "id": "dadb67cc-bd55-4414-a8bb-ee7084055454",
   "metadata": {},
   "outputs": [
    {
     "data": {
      "text/plain": [
       "<matplotlib.colorbar.Colorbar at 0x7f9eaed56d00>"
      ]
     },
     "execution_count": 20,
     "metadata": {},
     "output_type": "execute_result"
    },
    {
     "data": {
      "image/png": "[encoded data removed]",
      "text/plain": [
       "<Figure size 432x288 with 2 Axes>"
      ]
     },
     "metadata": {
      "needs_background": "light"
     },
     "output_type": "display_data"
    }
   ],
   "source": [
    "# this shows how many triangles every ray hits\n",
    "plt.imshow((~mask2 & ~mask3).sum(dim=1).reshape([H, W]), origin=\"lower\")\n",
    "plt.colorbar()\n"
   ]
  },
  {
   "cell_type": "code",
   "execution_count": 21,
   "id": "22039660-c432-4b0b-9a08-dd2c7ee1beb9",
   "metadata": {},
   "outputs": [],
   "source": [
    "intersection_points = t.einsum(\n",
    "    \"pv,pd->pvd\", t_, ray_directions\n",
    ") + ray_origins.unsqueeze(1)\n"
   ]
  },
  {
   "cell_type": "code",
   "execution_count": 22,
   "id": "ecd5b6a7-1e26-4ffb-b793-4daeca149365",
   "metadata": {},
   "outputs": [
    {
     "data": {
      "text/plain": [
       "torch.Size([90000, 412, 3])"
      ]
     },
     "execution_count": 22,
     "metadata": {},
     "output_type": "execute_result"
    }
   ],
   "source": [
    "intersection_points.shape\n"
   ]
  },
  {
   "cell_type": "code",
   "execution_count": 23,
   "id": "28f21f83-758c-41fc-84c7-6697ea325d11",
   "metadata": {},
   "outputs": [],
   "source": [
    "pixel_vertex_mask = mask2 | mask3\n"
   ]
  },
  {
   "cell_type": "code",
   "execution_count": 24,
   "id": "29fb11ad-0879-4dab-8446-054d07776820",
   "metadata": {},
   "outputs": [
    {
     "data": {
      "text/plain": [
       "torch.Size([90000, 412])"
      ]
     },
     "execution_count": 24,
     "metadata": {},
     "output_type": "execute_result"
    }
   ],
   "source": [
    "pixel_vertex_mask.shape\n"
   ]
  },
  {
   "cell_type": "code",
   "execution_count": 25,
   "id": "567f3bb5-5ddf-4b0d-ad1e-cde645b037b3",
   "metadata": {},
   "outputs": [],
   "source": [
    "import numpy as np\n"
   ]
  },
  {
   "cell_type": "code",
   "execution_count": 26,
   "id": "5bd8750f-3821-4f7e-b6d2-b6dbb7661bef",
   "metadata": {},
   "outputs": [],
   "source": [
    "t_[pixel_vertex_mask] = float(\"inf\")\n"
   ]
  },
  {
   "cell_type": "code",
   "execution_count": 27,
   "id": "44be6607-00be-4cf5-a204-4d8dbc7c7f9c",
   "metadata": {},
   "outputs": [],
   "source": [
    "selected_triangle_ids = t_.argmin(dim=1)\n"
   ]
  },
  {
   "cell_type": "code",
   "execution_count": 28,
   "id": "9cdb7bda-d3f2-4052-87ab-56c07a454fc4",
   "metadata": {},
   "outputs": [
    {
     "data": {
      "text/plain": [
       "<matplotlib.image.AxesImage at 0x7f9eac928f40>"
      ]
     },
     "execution_count": 28,
     "metadata": {},
     "output_type": "execute_result"
    },
    {
     "data": {
      "image/png": "[encoded data removed]",
      "text/plain": [
       "<Figure size 432x288 with 1 Axes>"
      ]
     },
     "metadata": {
      "needs_background": "light"
     },
     "output_type": "display_data"
    }
   ],
   "source": [
    "plt.imshow(selected_triangle_ids.reshape([H, W]), origin=\"lower\", cmap=\"Reds\")\n"
   ]
  },
  {
   "cell_type": "code",
   "execution_count": 29,
   "id": "37506748-b7e7-4e17-b9a7-9eabfa90cdff",
   "metadata": {},
   "outputs": [
    {
     "data": {
      "text/plain": [
       "<matplotlib.image.AxesImage at 0x7f9eac9132b0>"
      ]
     },
     "execution_count": 29,
     "metadata": {},
     "output_type": "execute_result"
    },
    {
     "data": {
      "image/png": "[encoded data removed]",
      "text/plain": [
       "<Figure size 432x288 with 1 Axes>"
      ]
     },
     "metadata": {
      "needs_background": "light"
     },
     "output_type": "display_data"
    }
   ],
   "source": [
    "plt.imshow(t_.min(dim=1).values.reshape([H, W]), origin=\"lower\", cmap=\"Reds\")\n"
   ]
  },
  {
   "cell_type": "code",
   "execution_count": 30,
   "id": "da584eee-d1e8-4e85-b097-8ccf07219e38",
   "metadata": {},
   "outputs": [],
   "source": [
    "selected_t = t.gather(t_, dim=1, index=selected_triangle_ids.unsqueeze(1)).squeeze(1)\n"
   ]
  },
  {
   "cell_type": "code",
   "execution_count": 31,
   "id": "62b7cf32-3409-4227-b91a-eaba10a6090b",
   "metadata": {},
   "outputs": [],
   "source": [
    "triangle_ids_2d = selected_triangle_ids.reshape([H, W])\n"
   ]
  },
  {
   "cell_type": "code",
   "execution_count": 32,
   "id": "a3bb799f-38a9-4847-977c-2489384a2c86",
   "metadata": {},
   "outputs": [
    {
     "data": {
      "text/plain": [
       "<matplotlib.image.AxesImage at 0x7f9eac86ff70>"
      ]
     },
     "execution_count": 32,
     "metadata": {},
     "output_type": "execute_result"
    },
    {
     "data": {
      "image/png": "[encoded data removed]",
      "text/plain": [
       "<Figure size 432x288 with 1 Axes>"
      ]
     },
     "metadata": {
      "needs_background": "light"
     },
     "output_type": "display_data"
    }
   ],
   "source": [
    "plt.imshow(\n",
    "    (triangle_ids_2d[1:, 1:] == triangle_ids_2d[:-1, 1:])\n",
    "    & (triangle_ids_2d[1:, 1:] == triangle_ids_2d[1:, :-1]),\n",
    "    origin=\"lower\",\n",
    "    cmap=\"Reds\",\n",
    "    interpolation=\"nearest\",\n",
    ")\n"
   ]
  },
  {
   "cell_type": "code",
   "execution_count": 33,
   "id": "1f9a62f5-d242-40bc-9b05-945c499d1e63",
   "metadata": {},
   "outputs": [],
   "source": [
    "selected_vertices = t.gather(\n",
    "    vertices, 0, selected_triangle_ids.reshape([-1, 1, 1]).expand([-1, 3, 3])\n",
    ")\n"
   ]
  },
  {
   "cell_type": "code",
   "execution_count": 34,
   "id": "8eeb7f93-558c-4af5-9a2b-50888cd8a3a0",
   "metadata": {},
   "outputs": [
    {
     "data": {
      "text/plain": [
       "torch.Size([90000, 3, 3])"
      ]
     },
     "execution_count": 34,
     "metadata": {},
     "output_type": "execute_result"
    }
   ],
   "source": [
    "selected_vertices.shape\n"
   ]
  },
  {
   "cell_type": "code",
   "execution_count": 35,
   "id": "ff910497-ebd2-4601-8bb7-c91c75948c1d",
   "metadata": {},
   "outputs": [
    {
     "data": {
      "text/plain": [
       "(412, 3)"
      ]
     },
     "execution_count": 35,
     "metadata": {},
     "output_type": "execute_result"
    }
   ],
   "source": [
    "model.normals.shape\n"
   ]
  },
  {
   "cell_type": "code",
   "execution_count": 36,
   "id": "d49ec9fc-e2eb-4c33-97fe-8174e76eda3e",
   "metadata": {},
   "outputs": [],
   "source": [
    "normals = t.tensor(model.normals.copy())\n"
   ]
  },
  {
   "cell_type": "code",
   "execution_count": 37,
   "id": "85c1b002-a418-44fc-989c-ba9317d58859",
   "metadata": {},
   "outputs": [],
   "source": [
    "relevant_normals = t.gather(\n",
    "    normals, 0, selected_triangle_ids.reshape([-1, 1]).expand([-1, 3])\n",
    ")\n"
   ]
  },
  {
   "cell_type": "code",
   "execution_count": 38,
   "id": "622114c1-fb42-449f-afac-f8e9ab6cd6a7",
   "metadata": {},
   "outputs": [],
   "source": [
    "from __future__ import print_function\n",
    "from ipywidgets import interact, interactive, fixed, interact_manual\n",
    "import ipywidgets as widgets\n"
   ]
  },
  {
   "cell_type": "code",
   "execution_count": 39,
   "id": "594a6282-457e-4d2a-9e75-c50f715cc2b4",
   "metadata": {},
   "outputs": [],
   "source": [
    "def foo(x=1.0, y=0.0, z=0.0):\n",
    "    total = (x ** 2 + y ** 2 + z ** 2) ** 0.5\n",
    "    vec = t.tensor([x, y, z]) / total\n",
    "    plt.imshow(\n",
    "        (\n",
    "            (\n",
    "                t.max(\n",
    "                    (relevant_normals * vec).sum(dim=1) / relevant_normals.norm(dim=1),\n",
    "                    t.tensor(0.0),\n",
    "                )\n",
    "                * ~pixel_mask\n",
    "            )\n",
    "        ).reshape([H, W]),\n",
    "        origin=\"lower\",\n",
    "        cmap=\"Reds\",\n",
    "    )\n",
    "    plt.colorbar()\n"
   ]
  },
  {
   "cell_type": "code",
   "execution_count": 40,
   "id": "3de97944-59d8-4494-84e1-4c057f8b8ece",
   "metadata": {},
   "outputs": [
    {
     "data": {
      "text/plain": [
       "torch.Size([90000, 3])"
      ]
     },
     "execution_count": 40,
     "metadata": {},
     "output_type": "execute_result"
    }
   ],
   "source": [
    "relevant_normals.shape\n"
   ]
  },
  {
   "cell_type": "code",
   "execution_count": 41,
   "id": "0aa1af55-13a9-47de-9062-8a82577edfa4",
   "metadata": {},
   "outputs": [
    {
     "data": {
      "application/vnd.jupyter.widget-view+json": {
       "model_id": "0605a86cafb34aea8ea13bdbf4858997",
       "version_major": 2,
       "version_minor": 0
      },
      "text/plain": [
       "interactive(children=(FloatSlider(value=1.0, description='x', max=3.0, min=-1.0), FloatSlider(value=0.0, descr…"
      ]
     },
     "metadata": {},
     "output_type": "display_data"
    },
    {
     "data": {
      "text/plain": [
       "<function __main__.foo(x=1.0, y=0.0, z=0.0)>"
      ]
     },
     "execution_count": 41,
     "metadata": {},
     "output_type": "execute_result"
    }
   ],
   "source": [
    "interact(foo)\n"
   ]
  },
  {
   "cell_type": "code",
   "execution_count": 42,
   "id": "071289c1-4222-4ae2-a7f0-51876a2de372",
   "metadata": {},
   "outputs": [
    {
     "data": {
      "text/plain": [
       "3"
      ]
     },
     "execution_count": 42,
     "metadata": {},
     "output_type": "execute_result"
    }
   ],
   "source": [
    "1 + 2\n"
   ]
  },
  {
   "cell_type": "code",
   "execution_count": null,
   "id": "f5dedf92-f6c1-4bcd-b873-59bf86e7df8a",
   "metadata": {},
   "outputs": [],
   "source": []
  },
  {
   "cell_type": "code",
   "execution_count": 43,
   "id": "781aa517-7557-4b81-b03c-94064c348995",
   "metadata": {},
   "outputs": [
    {
     "data": {
      "text/plain": [
       "<matplotlib.colorbar.Colorbar at 0x7f9eac423ac0>"
      ]
     },
     "execution_count": 43,
     "metadata": {},
     "output_type": "execute_result"
    },
    {
     "data": {
      "image/png": "[encoded data removed]",
      "text/plain": [
       "<Figure size 432x288 with 2 Axes>"
      ]
     },
     "metadata": {
      "needs_background": "light"
     },
     "output_type": "display_data"
    }
   ],
   "source": [
    "plt.imshow(\n",
    "    (\n",
    "        (\n",
    "            (\n",
    "                t.max(relevant_normals[:, 0]) / relevant_normals.norm(dim=1)\n",
    "                + 200\n",
    "                + t_.min(dim=1).values * 20\n",
    "            )\n",
    "        )\n",
    "        * (~mask2 & ~mask3).any(dim=1)\n",
    "    ).reshape([H, W]),\n",
    "    origin=\"lower\",\n",
    "    cmap=\"Reds\",\n",
    ")\n",
    "plt.colorbar()\n"
   ]
  },
  {
   "cell_type": "code",
   "execution_count": null,
   "id": "fa1a7dfc-edf2-48e4-a5c5-7561b8b38de1",
   "metadata": {},
   "outputs": [],
   "source": []
  }
 ],
 "metadata": {
  "kernelspec": {
   "display_name": "Python 3 (ipykernel)",
   "language": "python",
   "name": "python3"
  },
  "language_info": {
   "codemirror_mode": {
    "name": "ipython",
    "version": 3
   },
   "file_extension": ".py",
   "mimetype": "text/x-python",
   "name": "python",
   "nbconvert_exporter": "python",
   "pygments_lexer": "ipython3",
   "version": "3.8.10"
  }
 },
 "nbformat": 4,
 "nbformat_minor": 5
}
