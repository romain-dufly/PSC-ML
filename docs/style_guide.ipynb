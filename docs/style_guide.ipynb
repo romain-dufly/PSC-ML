{
 "cells": [
  {
   "cell_type": "markdown",
   "metadata": {},
   "source": [
    "Jupyter Style Guide"
   ]
  },
  {
   "cell_type": "markdown",
   "metadata": {},
   "source": [
    "Import everything at the top. You can alias imports that you use a lot, such as:"
   ]
  },
  {
   "cell_type": "code",
   "execution_count": 12,
   "metadata": {},
   "outputs": [],
   "source": [
    "import torch as t\n",
    "import numpy as np\n",
    "#import days.training_tests as td\n",
    "from days.utils import tpeek"
   ]
  },
  {
   "cell_type": "markdown",
   "metadata": {},
   "source": [
    "I like to write functions and test them in the same code block. I also often print stuff in my functions. Because tensors can be large, I use the `utils.tpeek(name:str, tensor)` to print an overview of the tensor."
   ]
  },
  {
   "cell_type": "code",
   "execution_count": 13,
   "metadata": {},
   "outputs": [
    {
     "name": "stdout",
     "output_type": "stream",
     "text": [
      "mul SHAPE (10, 40) MEAN: -0.0334 VAR: 18.18 VALS [5.022 -0.7454 -2.187 5.126 7.465 -6.049 3.454 1.345 2.088 -0.5953...]\n",
      "mul_add SHAPE (10, 40) MEAN: -0.1677 VAR: 22.58 VALS [2.437 -0.6312 1.198 3.182 2.286 -8.819 10.53 1.979 -2.431 0.05694...]\n"
     ]
    }
   ],
   "source": [
    "def mul_add(x, mat, bias):\n",
    "    mul_out = x @ mat\n",
    "    tpeek(\"mul\",mul_out)\n",
    "    return mul_out * bias\n",
    "tpeek(\"mul_add\",mul_add(t.randn(10,20),t.randn(20, 40),t.randn(40)))"
   ]
  },
  {
   "cell_type": "markdown",
   "metadata": {},
   "source": [
    "One note: don't rerun earlier cells without rerunning later cells. You can \"run a cell and all below\" in the \"run\" section of the top toolbar, or [TODO: shortcut this in config for them]."
   ]
  },
  {
   "cell_type": "markdown",
   "metadata": {},
   "source": [
    "You can use tqdm to show progress on long running loops like this"
   ]
  },
  {
   "cell_type": "code",
   "execution_count": 3,
   "metadata": {},
   "outputs": [
    {
     "name": "stderr",
     "output_type": "stream",
     "text": [
      "100%|██████████| 100/100 [00:10<00:00,  9.55it/s]\n"
     ]
    }
   ],
   "source": [
    "from tqdm import tqdm\n",
    "import time\n",
    "for i in tqdm(range(100)):\n",
    "    time.sleep(0.1)"
   ]
  },
  {
   "cell_type": "code",
   "execution_count": null,
   "metadata": {},
   "outputs": [],
   "source": []
  }
 ],
 "metadata": {
  "interpreter": {
   "hash": "31f2aee4e71d21fbe5cf8b01ff0e069b9275f58929596ceb00d14d90e3e16cd6"
  },
  "kernelspec": {
   "display_name": "Python 3.8.2 64-bit",
   "language": "python",
   "name": "python3"
  },
  "language_info": {
   "codemirror_mode": {
    "name": "ipython",
    "version": 3
   },
   "file_extension": ".py",
   "mimetype": "text/x-python",
   "name": "python",
   "nbconvert_exporter": "python",
   "pygments_lexer": "ipython3",
   "version": "3.8.2"
  },
  "orig_nbformat": 4
 },
 "nbformat": 4,
 "nbformat_minor": 2
}
